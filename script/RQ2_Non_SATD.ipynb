{
 "cells": [
  {
   "cell_type": "code",
   "execution_count": 1,
   "id": "c7eb30bc",
   "metadata": {},
   "outputs": [],
   "source": [
    "from extract_SATD_comments import _Comment, identify_comments, xml_lexer\n",
    "import re\n",
    "from antlr4 import Token, Lexer, InputStream\n",
    "from lexer.CMakeLexer import CMakeLexer\n",
    "from lexer.MakefileCommentLexer import MakefileCommentLexer\n",
    "from lexer.MakefileAmCommentLexer import MakefileAmCommentLexer\n",
    "from lexer.CPP14Lexer import CPP14Lexer\n",
    "import pandas as pd"
   ]
  },
  {
   "cell_type": "code",
   "execution_count": 2,
   "id": "999f3034",
   "metadata": {},
   "outputs": [],
   "source": [
    "Non_SATD_comments = pd.read_csv('../data/Non_SATD_clones.csv')"
   ]
  },
  {
   "cell_type": "code",
   "execution_count": 3,
   "id": "8cf95576",
   "metadata": {},
   "outputs": [],
   "source": [
    "def clean_comments(content, comments):\n",
    "    for comment in comments:\n",
    "        for line in comment.text.split('\\n'):\n",
    "            content = content.replace(line, '', 1)\n",
    "    return content"
   ]
  },
  {
   "cell_type": "code",
   "execution_count": 4,
   "id": "c2d85189",
   "metadata": {},
   "outputs": [],
   "source": [
    "def clean_comments(content, comments):\n",
    "    i = 0\n",
    "    for comment in comments:\n",
    "        for line in comment.get_text().split('\\n'):\n",
    "            content = content.replace(line, '', 1)\n",
    "    # This is hack to clean undiscoved comment because of Antrl4 cannot read these \"wrong\" grammar\n",
    "    lines = [line if len(line.strip()) == 0 else ('' if line.strip()[0] == '#' else line) for line in content.split('\\n')]\n",
    "    content = '\\n'.join(lines)\n",
    "    return content"
   ]
  },
  {
   "cell_type": "code",
   "execution_count": 5,
   "id": "ab9861de",
   "metadata": {},
   "outputs": [
    {
     "name": "stderr",
     "output_type": "stream",
     "text": [
      "line 1098:41 token recognition error at: '\" >&AS_MESSAGE_LOG_FD\\n   (exit $ac_status); }])\\n\\nm4_include([acinclude.m4])\\n'\n",
      "line 4340:30 token recognition error at: '\"stamp-h\\$am_indx\\n    ;;\\n  esac\\n  am_indx=\\`expr \\$am_indx + 1\\`\\ndone])\\n])]) # AM_CONFIG_HEADER\\n\\n# _AM_DIRNAME(PATH)\\n# -----------------\\n# Like AS_DIRNAME, only do it during macro expansion\\nAC_DEFUN([_AM_DIRNAME],\\n       [m4_if(m4_regexp([$1], [^.*[^/]//*[^/][^/]*/*$]), -1,\\n\\t      m4_if(m4_regexp([$1], [^//\\([^/]\\|$\\)]), -1,\\n\\t\\t    m4_if(m4_regexp([$1], [^/.*]), -1,\\n\\t\\t\\t  [.],\\n\\t\\t\\t  m4_patsubst([$1], [^\\(/\\).*], [\\1])),\\n\\t\\t    m4_patsubst([$1], [^\\(//\\)\\([^/].*\\|$\\)], [\\1])),\\n\\t      m4_patsubst([$1], [^\\(.*[^/]\\)//*[^/][^/]*/*$], [\\1]))[]dnl\\n]) # _AM_DIRNAME\\n\\n# Add --enable-maintainer-mode option to configure.\\n# From Jim Meyering\\n\\n# serial 1\\n\\nAC_DEFUN([AM_MAINTAINER_MODE],\\n[AC_MSG_CHECKING([whether to enable maintainer-specific portions of Makefiles])\\n  dnl maintainer-mode is disabled by default\\n  AC_ARG_ENABLE(maintainer-mode,\\n[  --enable-maintainer-mode enable make rules and dependencies not useful\\n                          (and sometimes confusing) to the casual installer],\\n      USE_MAINTAINER_MODE=$enableval,\\n      USE_MAINTAINER_MODE=no)\\n  AC_MSG_RESULT([$USE_MAINTAINER_MODE])\\n  AM_CONDITIONAL(MAINTAINER_MODE, [test $USE_MAINTAINER_MODE = yes])\\n  MAINT=$MAINTAINER_MODE_TRUE\\n  AC_SUBST(MAINT)dnl\\n]\\n)\\n\\n'\n",
      "line 838:41 token recognition error at: '\".*/tests\\/\\1/p' \\\\n    $srcdir/tests/*.c\\``\\nfi\\n\\ndnl Output\\nAC_CONFIG_FILES([Makefile mpfr.pc doc/Makefile src/Makefile tests/Makefile tune/Makefile src/mparam.h:src/mparam_h.in tools/bench/Makefile])\\nAC_OUTPUT\\n\\ndnl NEWS README AUTHORS Changelog\\n'\n",
      "line 1098:41 token recognition error at: '\" >&AS_MESSAGE_LOG_FD\\n   (exit $ac_status); }])\\n\\nm4_include([acinclude.m4])\\n'\n",
      "line 411:70 token recognition error at: '\"/' <$(srcdir)/tkTable.tcl >tkTable.tcl.h || rm tkTable.tcl.h \\n\\n# Defining lib_LIBRARIES conditionally doesn't do the right thing.\\ninstall-exec-local:\\n@INSTALL_LIBGUI_TRUE@\\t@$(NORMAL_INSTALL)\\n@INSTALL_LIBGUI_TRUE@\\t$(mkinstalldirs) $(libdir)\\n@INSTALL_LIBGUI_TRUE@\\t$(INSTALL_DATA) libgui.a $(libdir)/libgui.a\\n@INSTALL_LIBGUI_TRUE@\\t@$(POST_INSTALL)\\n@INSTALL_LIBGUI_TRUE@\\t$(RANLIB) $(libdir)/libgui.a\\n\\npaths.$(OBJEXT): paths.c guitcl.h\\nsubcommand.$(OBJEXT): subcommand.c subcommand.h\\ntkCanvEdge.$(OBJEXT): tkCanvEdge.c ../config.h\\ntkCanvLayout.$(OBJEXT): tkCanvLayout.c ../config.h tkCanvLayout.h\\ntkGraphCanvas.$(OBJEXT): tkGraphCanvas.c tkCanvLayout.h\\nxpmlib.$(OBJEXT): xpmlib.c guitcl.h\\nassertions.$(OBJEXT): assertions.c ../config.h assertions.h\\ntclcursor.$(OBJEXT): tclcursor.c ../config.h guitcl.h subcommand.h\\ntclhelp.$(OBJEXT): tclhelp.c ../config.h guitcl.h subcommand.h\\ntclgetdir.$(OBJEXT): tclgetdir.c guitcl.h\\ntclmain.$(OBJEXT): tclmain.c guitcl.h\\ntclwinprint.$(OBJEXT): tclwinprint.c guitcl.h subcommand.h\\ntclsizebox.$(OBJEXT): tclsizebox.c guitcl.h\\ntclshellexe.$(OBJEXT): tclshellexe.c guitcl.h\\ntclmapi.$(OBJEXT): tclmapi.c guitcl.h subcommand.h\\ntclwinfont.$(OBJEXT): tclwinfont.c guitcl.h\\ntclwingrab.$(OBJEXT): tclwingrab.c guitcl.h\\ntclwinpath.$(OBJEXT): tclwinpath.c guitcl.h subcommand.h\\ntclwinmode.$(OBJEXT): tclwinmode.c guitcl.h\\ntkTable.$(OBJEXT): tkTable.c tkTable.h tkTableInitScript.h tkTable.tcl.h\\ntkTableCell.$(OBJEXT): tkTableCell.c tkTable.h\\ntkTableCellSort.$(OBJEXT): tkTableCellSort.c tkTable.h\\ntkTableCmds.$(OBJEXT): tkTableCmds.c tkTable.h\\ntkTableEdit.$(OBJEXT): tkTableEdit.c tkTable.h\\ntkTableTag.$(OBJEXT): tkTableTag.c tkTable.h\\ntkTablePs.$(OBJECT): tkTablePs.c tkTable.h\\ntkTableWin.$(OBJEXT):tkTableWin.c  tkTable.h\\ntkTableUtil.$(OBJEXT): tkTableUtil.c tkTable.h\\ntkTable.tcl.h: tkTable.tcl\\n\\n# Tell versions [3.59,3.63) of GNU make to not export all variables.\\n# Otherwise a system limit (for SysV at least) may be exceeded.\\n.NOEXPORT:\\n'\n",
      "line 411:70 token recognition error at: '\"/' <$(srcdir)/tkTable.tcl >tkTable.tcl.h || rm tkTable.tcl.h \\n\\n# Defining lib_LIBRARIES conditionally doesn't do the right thing.\\ninstall-exec-local:\\n@INSTALL_LIBGUI_TRUE@\\t@$(NORMAL_INSTALL)\\n@INSTALL_LIBGUI_TRUE@\\t$(mkinstalldirs) $(libdir)\\n@INSTALL_LIBGUI_TRUE@\\t$(INSTALL_DATA) libgui.a $(libdir)/libgui.a\\n@INSTALL_LIBGUI_TRUE@\\t@$(POST_INSTALL)\\n@INSTALL_LIBGUI_TRUE@\\t$(RANLIB) $(libdir)/libgui.a\\n\\npaths.$(OBJEXT): paths.c guitcl.h\\nsubcommand.$(OBJEXT): subcommand.c subcommand.h\\ntkCanvEdge.$(OBJEXT): tkCanvEdge.c ../config.h\\ntkCanvLayout.$(OBJEXT): tkCanvLayout.c ../config.h tkCanvLayout.h\\ntkGraphCanvas.$(OBJEXT): tkGraphCanvas.c tkCanvLayout.h\\nxpmlib.$(OBJEXT): xpmlib.c guitcl.h\\nassertions.$(OBJEXT): assertions.c ../config.h assertions.h\\ntclcursor.$(OBJEXT): tclcursor.c ../config.h guitcl.h subcommand.h\\ntclhelp.$(OBJEXT): tclhelp.c ../config.h guitcl.h subcommand.h\\ntclgetdir.$(OBJEXT): tclgetdir.c guitcl.h\\ntclmain.$(OBJEXT): tclmain.c guitcl.h\\ntclwinprint.$(OBJEXT): tclwinprint.c guitcl.h subcommand.h\\ntclsizebox.$(OBJEXT): tclsizebox.c guitcl.h\\ntclshellexe.$(OBJEXT): tclshellexe.c guitcl.h\\ntclmapi.$(OBJEXT): tclmapi.c guitcl.h subcommand.h\\ntclwinfont.$(OBJEXT): tclwinfont.c guitcl.h\\ntclwingrab.$(OBJEXT): tclwingrab.c guitcl.h\\ntclwinpath.$(OBJEXT): tclwinpath.c guitcl.h subcommand.h\\ntclwinmode.$(OBJEXT): tclwinmode.c guitcl.h\\ntkTable.$(OBJEXT): tkTable.c tkTable.h tkTableInitScript.h tkTable.tcl.h\\ntkTableCell.$(OBJEXT): tkTableCell.c tkTable.h\\ntkTableCellSort.$(OBJEXT): tkTableCellSort.c tkTable.h\\ntkTableCmds.$(OBJEXT): tkTableCmds.c tkTable.h\\ntkTableEdit.$(OBJEXT): tkTableEdit.c tkTable.h\\ntkTableTag.$(OBJEXT): tkTableTag.c tkTable.h\\ntkTablePs.$(OBJECT): tkTablePs.c tkTable.h\\ntkTableWin.$(OBJEXT):tkTableWin.c  tkTable.h\\ntkTableUtil.$(OBJEXT): tkTableUtil.c tkTable.h\\ntkTable.tcl.h: tkTable.tcl\\n\\n# Tell versions [3.59,3.63) of GNU make to not export all variables.\\n# Otherwise a system limit (for SysV at least) may be exceeded.\\n.NOEXPORT:\\n'\n",
      "line 411:70 token recognition error at: '\"/' <$(srcdir)/tkTable.tcl >tkTable.tcl.h || rm tkTable.tcl.h \\n\\n# Defining lib_LIBRARIES conditionally doesn't do the right thing.\\ninstall-exec-local:\\n@INSTALL_LIBGUI_TRUE@\\t@$(NORMAL_INSTALL)\\n@INSTALL_LIBGUI_TRUE@\\t$(mkinstalldirs) $(libdir)\\n@INSTALL_LIBGUI_TRUE@\\t$(INSTALL_DATA) libgui.a $(libdir)/libgui.a\\n@INSTALL_LIBGUI_TRUE@\\t@$(POST_INSTALL)\\n@INSTALL_LIBGUI_TRUE@\\t$(RANLIB) $(libdir)/libgui.a\\n\\npaths.$(OBJEXT): paths.c guitcl.h\\nsubcommand.$(OBJEXT): subcommand.c subcommand.h\\ntkCanvEdge.$(OBJEXT): tkCanvEdge.c ../config.h\\ntkCanvLayout.$(OBJEXT): tkCanvLayout.c ../config.h tkCanvLayout.h\\ntkGraphCanvas.$(OBJEXT): tkGraphCanvas.c tkCanvLayout.h\\nxpmlib.$(OBJEXT): xpmlib.c guitcl.h\\nassertions.$(OBJEXT): assertions.c ../config.h assertions.h\\ntclcursor.$(OBJEXT): tclcursor.c ../config.h guitcl.h subcommand.h\\ntclhelp.$(OBJEXT): tclhelp.c ../config.h guitcl.h subcommand.h\\ntclgetdir.$(OBJEXT): tclgetdir.c guitcl.h\\ntclmain.$(OBJEXT): tclmain.c guitcl.h\\ntclwinprint.$(OBJEXT): tclwinprint.c guitcl.h subcommand.h\\ntclsizebox.$(OBJEXT): tclsizebox.c guitcl.h\\ntclshellexe.$(OBJEXT): tclshellexe.c guitcl.h\\ntclmapi.$(OBJEXT): tclmapi.c guitcl.h subcommand.h\\ntclwinfont.$(OBJEXT): tclwinfont.c guitcl.h\\ntclwingrab.$(OBJEXT): tclwingrab.c guitcl.h\\ntclwinpath.$(OBJEXT): tclwinpath.c guitcl.h subcommand.h\\ntclwinmode.$(OBJEXT): tclwinmode.c guitcl.h\\ntkTable.$(OBJEXT): tkTable.c tkTable.h tkTableInitScript.h tkTable.tcl.h\\ntkTableCell.$(OBJEXT): tkTableCell.c tkTable.h\\ntkTableCellSort.$(OBJEXT): tkTableCellSort.c tkTable.h\\ntkTableCmds.$(OBJEXT): tkTableCmds.c tkTable.h\\ntkTableEdit.$(OBJEXT): tkTableEdit.c tkTable.h\\ntkTableTag.$(OBJEXT): tkTableTag.c tkTable.h\\ntkTablePs.$(OBJECT): tkTablePs.c tkTable.h\\ntkTableWin.$(OBJEXT):tkTableWin.c  tkTable.h\\ntkTableUtil.$(OBJEXT): tkTableUtil.c tkTable.h\\ntkTable.tcl.h: tkTable.tcl\\n\\n# Tell versions [3.59,3.63) of GNU make to not export all variables.\\n# Otherwise a system limit (for SysV at least) may be exceeded.\\n.NOEXPORT:\\n'\n",
      "line 411:70 token recognition error at: '\"/' <$(srcdir)/tkTable.tcl >tkTable.tcl.h || rm tkTable.tcl.h \\n\\n# Defining lib_LIBRARIES conditionally doesn't do the right thing.\\ninstall-exec-local:\\n@INSTALL_LIBGUI_TRUE@\\t@$(NORMAL_INSTALL)\\n@INSTALL_LIBGUI_TRUE@\\t$(mkinstalldirs) $(libdir)\\n@INSTALL_LIBGUI_TRUE@\\t$(INSTALL_DATA) libgui.a $(libdir)/libgui.a\\n@INSTALL_LIBGUI_TRUE@\\t@$(POST_INSTALL)\\n@INSTALL_LIBGUI_TRUE@\\t$(RANLIB) $(libdir)/libgui.a\\n\\npaths.$(OBJEXT): paths.c guitcl.h\\nsubcommand.$(OBJEXT): subcommand.c subcommand.h\\ntkCanvEdge.$(OBJEXT): tkCanvEdge.c ../config.h\\ntkCanvLayout.$(OBJEXT): tkCanvLayout.c ../config.h tkCanvLayout.h\\ntkGraphCanvas.$(OBJEXT): tkGraphCanvas.c tkCanvLayout.h\\nxpmlib.$(OBJEXT): xpmlib.c guitcl.h\\nassertions.$(OBJEXT): assertions.c ../config.h assertions.h\\ntclcursor.$(OBJEXT): tclcursor.c ../config.h guitcl.h subcommand.h\\ntclhelp.$(OBJEXT): tclhelp.c ../config.h guitcl.h subcommand.h\\ntclgetdir.$(OBJEXT): tclgetdir.c guitcl.h\\ntclmain.$(OBJEXT): tclmain.c guitcl.h\\ntclwinprint.$(OBJEXT): tclwinprint.c guitcl.h subcommand.h\\ntclsizebox.$(OBJEXT): tclsizebox.c guitcl.h\\ntclshellexe.$(OBJEXT): tclshellexe.c guitcl.h\\ntclmapi.$(OBJEXT): tclmapi.c guitcl.h subcommand.h\\ntclwinfont.$(OBJEXT): tclwinfont.c guitcl.h\\ntclwingrab.$(OBJEXT): tclwingrab.c guitcl.h\\ntclwinpath.$(OBJEXT): tclwinpath.c guitcl.h subcommand.h\\ntclwinmode.$(OBJEXT): tclwinmode.c guitcl.h\\ntkTable.$(OBJEXT): tkTable.c tkTable.h tkTableInitScript.h tkTable.tcl.h\\ntkTableCell.$(OBJEXT): tkTableCell.c tkTable.h\\ntkTableCellSort.$(OBJEXT): tkTableCellSort.c tkTable.h\\ntkTableCmds.$(OBJEXT): tkTableCmds.c tkTable.h\\ntkTableEdit.$(OBJEXT): tkTableEdit.c tkTable.h\\ntkTableTag.$(OBJEXT): tkTableTag.c tkTable.h\\ntkTablePs.$(OBJECT): tkTablePs.c tkTable.h\\ntkTableWin.$(OBJEXT):tkTableWin.c  tkTable.h\\ntkTableUtil.$(OBJEXT): tkTableUtil.c tkTable.h\\ntkTable.tcl.h: tkTable.tcl\\n\\n# Tell versions [3.59,3.63) of GNU make to not export all variables.\\n# Otherwise a system limit (for SysV at least) may be exceeded.\\n.NOEXPORT:\\n'\n"
     ]
    },
    {
     "name": "stderr",
     "output_type": "stream",
     "text": [
      "line 1714:16 token recognition error at: '\"\\n])\\n'\n",
      "line 247:52 token recognition error at: '\")\\n\\nAC_CONFIG_FILES([\\n  Makefile\\n  doc/Makefile\\n  libusb.spec\\n  libusb-config\\n  libusb.pc\\n  README\\n  INSTALL.libusb\\n  usb.h\\n  Doxyfile\\n])\\nAC_CONFIG_COMMANDS([default],[[chmod +x libusb-config]],[[]])\\nAC_OUTPUT\\n\\n'\n",
      "line 245:80 token recognition error at: '\"; exit 1\\n\\ntarball: check_VERSION check-submods check_all_committed check_changelogs_up2date distclean doc configure .filelist\\n\\trm -f drbd-utils-$(VERSION)\\n\\t$(LN_S) . drbd-utils-$(VERSION)\\n\\tfor f in $$(<.filelist) ; do [ -e $$f ] && continue ; echo missing: $$f ; exit 1; done\\n\\ttar --owner=0 --group=0 -czf - -T .filelist > drbd-utils-$(VERSION).tar.gz\\n\\trm drbd-utils-$(VERSION)\\n\\nifdef RPMBUILD\\ndrbd.spec: drbd.spec.in configure\\n\\t./configure --enable-spec\\nendif\\n\\n.PHONY: selinux\\nselinux:\\n\\t$(MAKE) -C selinux\\n\\nifneq ($(FORCE),1)\\ndockerimage: debrelease\\nelse\\ndockerimage:\\nendif\\n\\tdocker build -t $(DOCKERREGPATH):$(DOCKER_TAG) $(EXTRA_DOCKER_BUILDARGS) .\\n\\tdocker tag $(DOCKERREGPATH):$(DOCKER_TAG) $(DOCKERREGPATH):latest\\n\\n.PHONY: dockerpath\\ndockerpath:\\n\\t@echo $(DOCKERREGPATH):latest $(DOCKERREGPATH):$(DOCKER_TAG)\\n\\nMakefile.in: ;\\nMakefile: Makefile.in config.status\\n\\t./config.status Makefile\\n'\n",
      "line 572:32 token recognition error at: '\"' >libintl.h\\nfi\\n],\\n[\\nhost='${host}'\\nbuild='${build}'\\ntarget='${target}'\\ntarget_alias='${target_alias}'\\nsrcdir='${srcdir}'\\nsymbolic_link='${symbolic_link}'\\nprogram_transform_set='${program_transform_set}'\\nprogram_transform_name='${program_transform_name}'\\ndep_host_xmake_file='${dep_host_xmake_file}'\\nhost_xmake_file='${host_xmake_file}'\\ndep_tmake_file='${dep_tmake_file}'\\ntmake_file='${tmake_file}'\\nthread_file='${thread_file}'\\ngcc_config_arguments='${gcc_config_arguments}'\\ngcc_version='${gcc_version}'\\ngcc_version_full='${gcc_version_full}'\\ngcc_version_trigger='${gcc_version_trigger}'\\nlocal_prefix='${local_prefix}'\\nbuild_install_headers_dir='${build_install_headers_dir}'\\nbuild_exeext='${build_exeext}'\\nhost_exeext='${host_exeext}'\\nout_file='${out_file}'\\ngdb_needs_out_file_path='${gdb_needs_out_file_path}'\\nSET_MAKE='${SET_MAKE}'\\ntarget_list='${target_list}'\\ntarget_overrides='${target_overrides}'\\nhost_overrides='${host_overrides}'\\ncross_defines='${cross_defines}'\\ncross_overrides='${cross_overrides}'\\nbuild_overrides='${build_overrides}'\\ncpp_install_dir='${cpp_install_dir}'\\n])\\n'\n",
      "line 1501:55 token recognition error at: '\")\\n  AC_MSG_WARN()\\n  AC_MSG_WARN()\\nfi\\n'\n",
      "line 3693:11 token recognition error at: '\" in\\n  *-s*)\\n    for d in ${subdirs} ; do\\n\\tSTARTDIR=`${PWDCMD-pwd}`\\n\\tcd $d\\n\\tfor t in stage1 stage2 stage3 stage4 stageprofile stagefeedback include\\n\\tdo\\n\\t\\trm -f $t\\n\\t\\t$LN_S ../$t $t 2>/dev/null\\n\\tdone\\n\\tcd $STARTDIR\\n    done\\n  ;;\\nesac\\n], \\n[subdirs='$subdirs'])\\nAC_OUTPUT\\n'\n",
      "line 739:10 token recognition error at: '\"\\n    ;;\\nesac\\n'\n",
      "line 5163:59 token recognition error at: '\",\\n                                         [The linker hash style])\\nfi\\n\\n# Configure the subdirectories\\n# AC_CONFIG_SUBDIRS($subdirs)\\n\\n# Create the Makefile\\n# and configure language subdirectories\\nAC_CONFIG_FILES($all_outputs)\\n\\nAC_CONFIG_COMMANDS([default],\\n[\\ncase ${CONFIG_HEADERS} in\\n  *auto-host.h:config.in*)\\n  echo > cstamp-h ;;\\nesac\\n# Make sure all the subdirs exist.\\nfor d in $subdirs doc build common c-family\\ndo\\n    test -d $d || mkdir $d\\ndone\\n], \\n[subdirs='$subdirs'])\\nAC_OUTPUT\\n\\n'\n",
      "line 3709:11 token recognition error at: '\" in\\n  *-s*)\\n    for d in ${subdirs} ; do\\n\\tSTARTDIR=`${PWDCMD-pwd}`\\n\\tcd $d\\n\\tfor t in stage1 stage2 stage3 stage4 stageprofile stagefeedback include\\n\\tdo\\n\\t\\trm -f $t\\n\\t\\t$LN_S ../$t $t 2>/dev/null\\n\\tdone\\n\\tcd $STARTDIR\\n    done\\n  ;;\\nesac\\n], \\n[subdirs='$subdirs'])\\nAC_OUTPUT\\n'\n",
      "line 3306:6 token recognition error at: '\"\\n\\nexit 0\\n'\n",
      "line 650:20 token recognition error at: '\"(\\/ ])\\nAC_MSG_RESULT([   (_o_)     Champ Clark III & The Quadrant InfoSec Team [[quadrantsec.com]]])\\nAC_MSG_RESULT([   /   \\/)   Copyright (C) 2009-2022 Quadrant Information Security, et al.])\\nAC_MSG_RESULT([  (|| ||) ])\\nAC_MSG_RESULT([   oo-oo  ]) \\nAC_MSG_RESULT([])\\n\\n\\n'\n",
      "line 875:43 token recognition error at: '\" ; then\\n  AMALGAMATION_LINE_MACROS=--linemacros=0\\nfi\\nAC_SUBST(AMALGAMATION_LINE_MACROS)\\n\\n#########\\n# Output the config header\\nAC_CONFIG_HEADERS(config.h)\\n\\n#########\\n# Generate the output files.\\n#\\nAC_SUBST(BUILD_CFLAGS)\\nAC_OUTPUT([\\nMakefile\\nsqlcipher.pc\\n])\\n'\n",
      "line 838:41 token recognition error at: '\".*/tests\\/\\1/p' \\\\n    $srcdir/tests/*.c\\``\\nfi\\n\\ndnl Output\\nAC_CONFIG_FILES([Makefile mpfr.pc doc/Makefile src/Makefile tests/Makefile tune/Makefile src/mparam.h:src/mparam_h.in tools/bench/Makefile])\\nAC_OUTPUT\\n\\ndnl NEWS README AUTHORS Changelog\\n'\n",
      "line 872:6 token recognition error at: '\"\\n'\n",
      "line 157:52 token recognition error at: '\"/g' \\\\n\\t-e 's/include.*iooffset.*/integer (kind=MPI_OFFSET_KIND)offset/g' \\\\n\\t$(srcdir)/../../f77/io/ioharness.defn > $(srcdir)/ioharness.defn\\n$(srcdir)/ioharness.tlt: $(srcdir)/../../f77/io/ioharness.tlt\\n\\tsed -e 's/include.*mpif.*/use mpi/g' \\\\n\\t    -e 's/fheader/f90header/g' \\\\n\\t    -e 's/^C/!/g' \\\\n\\t    -e '/implicit *none/d' \\\\n\\t$(srcdir)/../../f77/io/ioharness.tlt > $(srcdir)/ioharness.tlt\\nc2f902cio.c: $(srcdir)/../../f90/io/c2f902cio.c\\n\\tcp $(srcdir)/../../f90/io/c2f902cio.c c2f902cio.c\\n'\n",
      "line 972:52 token recognition error at: '\"/g' \\\\n\\t-e 's/include.*iooffset.*/integer (kind=MPI_OFFSET_KIND)offset/g' \\\\n\\t$(srcdir)/../../f77/io/ioharness.defn > $(srcdir)/ioharness.defn\\n$(srcdir)/ioharness.tlt: $(srcdir)/../../f77/io/ioharness.tlt\\n\\tsed -e 's/include.*mpif.*/use mpi/g' \\\\n\\t    -e 's/fheader/f90header/g' \\\\n\\t    -e 's/^C/!/g' \\\\n\\t    -e '/implicit *none/d' \\\\n\\t$(srcdir)/../../f77/io/ioharness.tlt > $(srcdir)/ioharness.tlt\\nc2f902cio.c: $(srcdir)/../../f90/io/c2f902cio.c\\n\\tcp $(srcdir)/../../f90/io/c2f902cio.c c2f902cio.c\\n\\n# Tell versions [3.59,3.63) of GNU make to not export all variables.\\n# Otherwise a system limit (for SysV at least) may be exceeded.\\n.NOEXPORT:\\n'\n",
      "line 2024:16 token recognition error at: '\" = x$3 ]; then\\n     AC_SUBST([$1]) $1=1\\n  else\\n     AC_SUBST([$1]) $1=0\\n  fi\\n])\\n\\n#####\\n# Define values used in include/netcdf_meta.h\\n#####\\nAC_SUBST([NC_VERSION]) NC_VERSION=$VERSION\\nAX_SET_META([NC_HAS_NC2],[$nc_build_v2],[yes])\\nAX_SET_META([NC_HAS_NC4],[$enable_netcdf_4],[yes])\\nAX_SET_META([NC_HAS_HDF4],[$enable_hdf4],[yes])\\nAX_SET_META([NC_HAS_BENCHMARKS],[$enable_benchmarks],[yes])\\nAX_SET_META([NC_HAS_HDF5],[$enable_hdf5],[yes])\\nAX_SET_META([NC_HAS_DAP2],[$enable_dap],[yes])\\nAX_SET_META([NC_HAS_DAP4],[$enable_dap4],[yes])\\nAX_SET_META([NC_HAS_DISKLESS],[yes],[yes])\\nAX_SET_META([NC_HAS_MMAP],[$enable_mmap],[yes])\\nAX_SET_META([NC_HAS_JNA],[$enable_jna],[yes])\\nAX_SET_META([NC_HAS_PNETCDF],[$enable_pnetcdf],[yes])\\nAX_SET_META([NC_HAS_PARALLEL],[$enable_parallel],[yes])\\nAX_SET_META([NC_HAS_PARALLEL4],[$enable_parallel4],[yes])\\nAX_SET_META([NC_HAS_CDF5],[$enable_cdf5],[yes])\\nAX_SET_META([NC_HAS_ERANGE_FILL], [$enable_erange_fill],[yes])\\nAX_SET_META([NC_HAS_PAR_FILTERS], [$hdf5_supports_par_filters],[yes])\\nAX_SET_META([NC_HAS_BYTERANGE],[$enable_byterange],[yes])\\nAX_SET_META([NC_HAS_NCZARR],[$enable_nczarr],[yes])\\nAX_SET_META([NC_HAS_MULTIFILTERS],[$has_multifilters],[yes])\\nAX_SET_META([NC_HAS_LOGGING],[$enable_logging],[yes])\\nAX_SET_META([NC_HAS_QUANTIZE],[$enable_quantize],[yes])\\nAX_SET_META([NC_HAS_SZIP],[$enable_hdf5_szip],[yes])\\nAX_SET_META([NC_HAS_ZSTD],[$have_zstd],[yes])\\n\\n# This is the version of the dispatch table. If the dispatch table is\\n# changed, this should be incremented, so that user-defined format\\n# applications like PIO can determine whether they have an appropriate\\n# dispatch table to submit. If this is changed, make sure the value in\\n# CMakeLists.txt also changes to match.\\n\\nAC_SUBST([NC_DISPATCH_VERSION], [5])\\nAC_DEFINE_UNQUOTED([NC_DISPATCH_VERSION], [${NC_DISPATCH_VERSION}], [Dispatch table version.])\\n\\n#####\\n# End netcdf_meta.h definitions.\\n#####\\n\\n# This would be true for a cmake build.\\nAC_SUBST([ISCMAKE], [])\\n\\n# Provide  conditional to temporarily suppress tests and such\\nAM_CONDITIONAL([AX_IGNORE], [test xno = xyes])\\n\\nAC_MSG_NOTICE([generating header files and makefiles])\\nAC_CONFIG_FILES(test_common.sh:test_common.in)\\nAC_CONFIG_FILES(nc_test4/findplugin.sh:nc_test4/findplugin.in)\\nAC_CONFIG_FILES(nczarr_test/findplugin.sh:nc_test4/findplugin.in)\\nAC_CONFIG_FILES(plugins/findplugin.sh:nc_test4/findplugin.in)\\nAC_CONFIG_FILES(examples/C/findplugin.sh:nc_test4/findplugin.in)\\nAC_CONFIG_FILES(ncdap_test/findtestserver.c:ncdap_test/findtestserver.c.in)\\nAC_CONFIG_FILES([nc_test/run_pnetcdf_tests.sh:nc_test/run_pnetcdf_tests.sh.in],[chmod ugo+x nc_test/run_pnetcdf_tests.sh])\\nAC_CONFIG_FILES(dap4_test/findtestserver4.c:ncdap_test/findtestserver.c.in)\\nAC_CONFIG_FILES(dap4_test/pingurl4.c:ncdap_test/pingurl.c)\\nAC_CONFIG_FILES([h5_test/run_par_tests.sh], [chmod ugo+x h5_test/run_par_tests.sh])\\nAC_CONFIG_FILES([nc_test4/run_par_test.sh], [chmod ugo+x nc_test4/run_par_test.sh])\\nAC_CONFIG_FILES([nc_perf/run_par_bm_test.sh], [chmod ugo+x nc_perf/run_par_bm_test.sh])\\nAC_CONFIG_FILES([nc_perf/run_gfs_test.sh], [chmod ugo+x nc_perf/run_gfs_test.sh])\\nAC_CONFIG_FILES(nczarr_test/timer_utils.h:unit_test/timer_utils.h)\\nAC_CONFIG_FILES(nczarr_test/timer_utils.c:unit_test/timer_utils.c)\\nAC_CONFIG_FILES(nczarr_test/test_filter.c:nc_test4/test_filter.c)\\nAC_CONFIG_FILES(nczarr_test/test_filter_misc.c:nc_test4/test_filter_misc.c)\\nAC_CONFIG_FILES(nczarr_test/tst_multifilter.c:nc_test4/tst_multifilter.c)\\nAC_CONFIG_FILES(nczarr_test/test_filter_repeat.c:nc_test4/test_filter_repeat.c)\\nAC_CONFIG_FILES(nczarr_test/test_filter_order.c:nc_test4/test_filter_order.c)\\nAC_CONFIG_FILES([examples/C/run_par_test.sh], [chmod ugo+x examples/C/run_par_test.sh])\\nAC_CONFIG_FILES([nc-config], [chmod 755 nc-config])\\nAC_CONFIG_FILES([Makefile\\n                 netcdf.pc\\n                 libnetcdf.settings\\n                 postinstall.sh\\n                 include/netcdf_meta.h\\n                 include/netcdf_dispatch.h\\n                 include/Makefile\\n                 h5_test/Makefile\\n                 hdf4_test/Makefile\\n                 libsrc/Makefile\\n                 libsrc4/Makefile\\n                 libhdf5/Makefile\\n                 libsrcp/Makefile\\n                 ncdump/Makefile\\n                 ncgen3/Makefile\\n                 ncgen/Makefile\\n                 examples/Makefile\\n                 examples/C/Makefile\\n                 examples/CDL/Makefile\\n                 oc2/Makefile\\n                 libdap2/Makefile\\n                 libdap4/Makefile\\n                 libhdf4/Makefile\\n                 libnczarr/Makefile\\n                 libncpoco/Makefile\\n                 libncxml/Makefile\\n                 libdispatch/Makefile\\n                 liblib/Makefile\\n                 ncdump/cdl/Makefile\\n                 ncdump/expected/Makefile\\n                 docs/Makefile\\n                 docs/images/Makefile\\n                 unit_test/Makefile\\n                 nctest/Makefile\\n                 nc_test4/Makefile\\n                 nc_perf/Makefile\\n                 nc_test/Makefile\\n                 ncdap_test/Makefile\\n                 ncdap_test/testdata3/Makefile\\n                 ncdap_test/expected3/Makefile\\n                 ncdap_test/expectremote3/Makefile\\n                 dap4_test/Makefile\\n                 plugins/Makefile\\n\\t\\t nczarr_test/Makefile\\n                 ])\\nAC_OUTPUT()\\n\\ncat libnetcdf.settings\\n'\n"
     ]
    },
    {
     "name": "stderr",
     "output_type": "stream",
     "text": [
      "line 598:49 token recognition error at: '\" to perform build as well\\n#\\ncheck: all\\n\\t$(MAKE) $(AM_MAKEFLAGS) check-recursive\\n'\n",
      "line 7790:47 token recognition error at: '\" = xyes; then\\n    AC_DEFINE(ENABLE_S390_EXCESS_FLOAT_PRECISION, 1,\\n[Define to enable evaluating float expressions with double precision in\\nstandards-compatible mode on s390 targets.])\\n  fi\\n  ;;\\nesac\\n\\n# Configure the subdirectories\\n# AC_CONFIG_SUBDIRS($subdirs)\\n\\n# Create the Makefile\\n# and configure language subdirectories\\nAC_CONFIG_FILES($all_outputs)\\n\\nAC_CONFIG_COMMANDS([default],\\n[\\ncase ${CONFIG_HEADERS} in\\n  *auto-host.h:config.in*)\\n  echo > cstamp-h ;;\\nesac\\n# Make sure all the subdirs exist.\\nfor d in $subdirs doc build common c-family\\ndo\\n    test -d $d || mkdir $d\\ndone\\n], \\n[subdirs='$subdirs'])\\nAC_OUTPUT\\n\\n'\n"
     ]
    }
   ],
   "source": [
    "code_snippets = pd.Series()\n",
    "threshold = 5\n",
    "\n",
    "for name, group in Non_SATD_comments.groupby('filePath'):\n",
    "    file = '/data/satd-clone-2022/' + str(group.iloc[0]['repoIndex']) + '/' + '/'.join(name.split('/')[7:])\n",
    "\n",
    "    content = open(file, 'r', errors='ignore').read()\n",
    "    input_stream = InputStream(content)\n",
    "    if re.match(r'^build\\.xml$', file.split('/')[-1]) or re.match(r'^(pom\\.xml|maven[123]?\\.xml)$', file.split('/')[-1]):\n",
    "        comments = xml_lexer(file, content)\n",
    "    elif re.match(r'^([Cc]onfigure.in|[Mm]akefile.in)$', file.split('/')[-1]) or re.match(r'^[Cc]onfigure.ac$', file.split('/')[-1]) or re.match(r'^ac(local|site).m4$', file.split('/')[-1]):\n",
    "        comments = identify_comments(MakefileCommentLexer(input_stream))\n",
    "    elif re.match(r'^config.h.in$', file.split('/')[-1]):\n",
    "        comments = identify_comments(CPP14Lexer(input_stream))\n",
    "    elif re.match(r'^[Mm]akefile.am$', file.split('/')[-1]):\n",
    "        comments = identify_comments(MakefileAmCommentLexer(input_stream))\n",
    "    elif re.findall(r'.cmake', file.split('/')[-1]) or file.split('/')[-1] == 'CMakeLists.txt' or file.split('/')[-1] == 'build.properties':\n",
    "        comments = identify_comments(CMakeLexer(input_stream))\n",
    "    else: \n",
    "        print(name)\n",
    "        continue\n",
    "\n",
    "    content = clean_comments(content, comments)\n",
    "\n",
    "    lines = content.split('\\n')\n",
    "    \n",
    "    for index, row in group.iterrows():\n",
    "        start_line = row['startLine']\n",
    "        upper_code = []\n",
    "        while start_line >= 1 and len(upper_code) < threshold:\n",
    "            code = lines[start_line - 1]\n",
    "            if code.strip() != '': upper_code.append(code)\n",
    "            start_line -= 1\n",
    "        upper_code.reverse()\n",
    "\n",
    "        end_line = row['endLine']\n",
    "        bottom_code = []\n",
    "        while end_line <= len(lines) and len(bottom_code) < threshold:\n",
    "            code = lines[end_line - 1]\n",
    "            if code.strip() != '': bottom_code.append(code)\n",
    "            end_line += 1\n",
    "        code_snippets.at[index] = '\\n'.join(upper_code + bottom_code)\n"
   ]
  },
  {
   "cell_type": "code",
   "execution_count": 6,
   "id": "72965423",
   "metadata": {},
   "outputs": [],
   "source": [
    "Non_SATD_comments['codeSnippet'] = code_snippets"
   ]
  },
  {
   "cell_type": "code",
   "execution_count": 97,
   "id": "0bac53f1",
   "metadata": {},
   "outputs": [],
   "source": [
    "Non_SATD_comments.to_csv('../data/Non_SATD_clones_with_code.csv')"
   ]
  },
  {
   "cell_type": "code",
   "execution_count": 7,
   "id": "dbb44f1e",
   "metadata": {},
   "outputs": [],
   "source": [
    "import numpy as np\n",
    "from sklearn.feature_extraction.text import CountVectorizer\n",
    "import pandas as pd\n",
    "import math\n",
    "import time, pickle, math, warnings, os, operator\n",
    "import string \n",
    "from sklearn.metrics.pairwise import cosine_similarity\n",
    "from nltk.translate import bleu_score\n",
    "import time"
   ]
  },
  {
   "cell_type": "code",
   "execution_count": 8,
   "id": "d59601df",
   "metadata": {},
   "outputs": [],
   "source": [
    "Non_SATD_comments_clone_same_system = Non_SATD_comments.loc[Non_SATD_comments['systemDiversity'] == 1].reset_index()\n",
    "punctuations = string.punctuation.replace(\"\\\"\",\"\")\n",
    "cleand_code_snippets = [code.replace('\\n',' ').strip() for code in list(Non_SATD_comments_clone_same_system['codeSnippet'])]\n",
    "cleand_code_snippets = [code.translate(str.maketrans({key: \" {0} \".format(key) for key in punctuations})) for code in cleand_code_snippets]\n",
    "Non_SATD_comments_clone_same_system['cleaned_code'] = cleand_code_snippets\n",
    "data_count_vect = CountVectorizer(max_df=0.5)\n",
    "data_vect = data_count_vect.fit_transform(cleand_code_snippets)"
   ]
  },
  {
   "cell_type": "code",
   "execution_count": 9,
   "id": "25c73f75",
   "metadata": {},
   "outputs": [],
   "source": [
    "similarity = cosine_similarity(data_vect)"
   ]
  },
  {
   "cell_type": "code",
   "execution_count": 99,
   "id": "fecd88f5",
   "metadata": {},
   "outputs": [],
   "source": [
    "import itertools\n",
    "cos_score_mins = []\n",
    "cos_score_maxs = []\n",
    "cos_score_means = []\n",
    "cos_score_medians = []\n",
    "systems = []\n",
    "names = []\n",
    "for name, group in Non_SATD_comments_clone_same_system.groupby('groupId'):\n",
    "    group_index = list(group.index.values)\n",
    "    cos_score = []\n",
    "    names.append(name)\n",
    "    for combination in itertools.combinations(group_index, 2):\n",
    "        cos_score.append(similarity[combination[0]][combination[1]])\n",
    "    systems.append(group.iloc[0]['buildSysteminFile'])\n",
    "    stat = pd.DataFrame(cos_score)[0].describe()\n",
    "    cos_score_mins.append(stat['min'])\n",
    "    cos_score_maxs.append(stat['max'])\n",
    "    cos_score_means.append(stat['mean'])\n",
    "    cos_score_medians.append(stat['50%'])"
   ]
  },
  {
   "cell_type": "code",
   "execution_count": 100,
   "id": "3d324309",
   "metadata": {},
   "outputs": [],
   "source": [
    "stat_df = pd.DataFrame({'min': cos_score_mins,\n",
    "             'max': cos_score_maxs,\n",
    "             'mean': cos_score_means,\n",
    "             'median': cos_score_medians,\n",
    "            'system': systems,\n",
    "            'groupId': names})"
   ]
  },
  {
   "cell_type": "code",
   "execution_count": 101,
   "id": "72ab468d",
   "metadata": {},
   "outputs": [],
   "source": [
    "stat_df.to_csv(\"../data/RQ2_Non_SATD_stat.csv\",index=None)"
   ]
  },
  {
   "cell_type": "code",
   "execution_count": null,
   "id": "c3adc7e9",
   "metadata": {},
   "outputs": [],
   "source": []
  }
 ],
 "metadata": {
  "kernelspec": {
   "display_name": "Python 3 (ipykernel)",
   "language": "python",
   "name": "python3"
  },
  "language_info": {
   "codemirror_mode": {
    "name": "ipython",
    "version": 3
   },
   "file_extension": ".py",
   "mimetype": "text/x-python",
   "name": "python",
   "nbconvert_exporter": "python",
   "pygments_lexer": "ipython3",
   "version": "3.8.13"
  }
 },
 "nbformat": 4,
 "nbformat_minor": 5
}
