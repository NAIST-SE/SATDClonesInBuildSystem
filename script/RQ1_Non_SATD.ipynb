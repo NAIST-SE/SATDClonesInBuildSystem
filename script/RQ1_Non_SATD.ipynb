{
 "cells": [
  {
   "cell_type": "code",
   "execution_count": 1,
   "id": "240ce64f",
   "metadata": {},
   "outputs": [
    {
     "name": "stderr",
     "output_type": "stream",
     "text": [
      "/home/mark-xiao/anaconda3/envs/satd-clone/lib/python3.8/site-packages/tqdm/auto.py:22: TqdmWarning: IProgress not found. Please update jupyter and ipywidgets. See https://ipywidgets.readthedocs.io/en/stable/user_install.html\n",
      "  from .autonotebook import tqdm as notebook_tqdm\n"
     ]
    }
   ],
   "source": [
    "from tqdm import tqdm\n",
    "import pandas as pd\n",
    "import string\n",
    "import numpy as np\n",
    "from sklearn.metrics.pairwise import cosine_similarity\n",
    "from sklearn.feature_extraction.text import CountVectorizer\n",
    "from nltk.corpus import stopwords\n",
    "stopwords = stopwords.words('english')\n",
    "from sentence_transformers import SentenceTransformer\n",
    "import pickle\n",
    "import re\n",
    "import itertools\n",
    "import datetime\n",
    "import plotly.graph_objects as go\n",
    "from plotly.subplots import make_subplots\n",
    "model = SentenceTransformer('paraphrase-MiniLM-L6-v2')"
   ]
  },
  {
   "cell_type": "code",
   "execution_count": 3,
   "id": "8ed5b905",
   "metadata": {},
   "outputs": [
    {
     "name": "stderr",
     "output_type": "stream",
     "text": [
      "100%|███████████████████████████████████████████████████████████| 6504/6504 [02:02<00:00, 53.18it/s]\n"
     ]
    }
   ],
   "source": [
    "\n",
    "data_filter_repolist_with_full_info = pd.read_csv(\"../data/data_filter_repolist_with_full_info_no_header.csv\",header=None)\n",
    "\n",
    "SATD_comment_sum = pd.DataFrame()\n",
    "\n",
    "for index, row in tqdm(data_filter_repolist_with_full_info.iterrows(), total=data_filter_repolist_with_full_info.shape[0]):\n",
    "    comment = pd.read_csv('../data/SATD_comment/' + str(row[0]) + '.csv')\n",
    "    SATD_comment_sum = pd.concat([SATD_comment_sum, comment], ignore_index=True)\n"
   ]
  },
  {
   "cell_type": "code",
   "execution_count": 4,
   "id": "0d95e7cf",
   "metadata": {},
   "outputs": [],
   "source": [
    "SATD_comment_sum['filePath'] = SATD_comment_sum['linkLocation'].apply(lambda x: ''.join(x.split('#L')[:-1]))"
   ]
  },
  {
   "cell_type": "code",
   "execution_count": 5,
   "id": "0ff5bbe2",
   "metadata": {},
   "outputs": [
    {
     "name": "stderr",
     "output_type": "stream",
     "text": [
      "100%|███████████████████████████████████████████████████████████| 4641/4641 [19:36<00:00,  3.95it/s]\n"
     ]
    }
   ],
   "source": [
    "Non_SATD_comment_sum = pd.DataFrame()\n",
    "\n",
    "for index in tqdm(SATD_comment_sum['repoIndex'].unique()):\n",
    "    comment = pd.read_csv('../data/Comments_with_no_keywords/' + str(index) + '.csv')\n",
    "    Non_SATD_comment_sum = pd.concat([Non_SATD_comment_sum, comment], ignore_index=True)\n"
   ]
  },
  {
   "cell_type": "code",
   "execution_count": 6,
   "id": "e8f52469",
   "metadata": {},
   "outputs": [],
   "source": [
    "Non_SATD_comment_sum['filePath'] = Non_SATD_comment_sum['linkLocation'].apply(lambda x: ''.join(x.split('#L')[:-1]))"
   ]
  },
  {
   "cell_type": "code",
   "execution_count": 7,
   "id": "ae24e8dd",
   "metadata": {},
   "outputs": [
    {
     "data": {
      "text/plain": [
       "4641"
      ]
     },
     "execution_count": 7,
     "metadata": {},
     "output_type": "execute_result"
    }
   ],
   "source": [
    "len(Non_SATD_comment_sum['repoIndex'].unique())"
   ]
  },
  {
   "cell_type": "code",
   "execution_count": 8,
   "id": "0b30e071",
   "metadata": {},
   "outputs": [
    {
     "data": {
      "text/plain": [
       "Autotool    1205319\n",
       "CMake        949424\n",
       "Maven        161913\n",
       "Ant           44482\n",
       "Ivy             248\n",
       "Name: buildSysteminFile, dtype: int64"
      ]
     },
     "execution_count": 8,
     "metadata": {},
     "output_type": "execute_result"
    }
   ],
   "source": [
    "Non_SATD_comment_sum['buildSysteminFile'].value_counts()"
   ]
  },
  {
   "cell_type": "code",
   "execution_count": 9,
   "id": "368abb4f",
   "metadata": {},
   "outputs": [],
   "source": [
    "Non_SATD_comment_sum_same_file = Non_SATD_comment_sum.loc[Non_SATD_comment_sum['filePath'].isin(list(SATD_comment_sum['filePath'].unique()))]"
   ]
  },
  {
   "cell_type": "code",
   "execution_count": 10,
   "id": "d8837a8c",
   "metadata": {},
   "outputs": [],
   "source": [
    "Non_SATD_comment_sum_sample = pd.DataFrame(columns=Non_SATD_comment_sum_same_file.columns, dtype=object)\n",
    "\n",
    "unexptected_case = {}\n",
    "for index, row in SATD_comment_sum.iterrows():\n",
    "    comments = Non_SATD_comment_sum_same_file.loc[(Non_SATD_comment_sum_same_file['filePath'] == row['filePath']) & (~Non_SATD_comment_sum_same_file.index.isin(list(Non_SATD_comment_sum_sample.index)))]\n",
    "    if comments.shape[0] == 0:\n",
    "        if row['filePath'] in unexptected_case.keys():\n",
    "            unexptected_case[row['filePath']] += 1\n",
    "        else: unexptected_case[row['filePath']] = 0\n",
    "        continue\n",
    "    line_diff_upper = [line for line in list(comments['startLine']) if row['startLine'] > line]\n",
    "    indexes = []\n",
    "    if len(line_diff_upper) != 0:\n",
    "        indexes.append(line_diff_upper.index(max(line_diff_upper)))\n",
    "    line_diff_below = [line for line in list(comments['endLine']) if row['endLine'] < line]\n",
    "    if len(line_diff_below) != 0:\n",
    "        indexes.append(line_diff_below.index(min(line_diff_below)))\n",
    "    for i in indexes:\n",
    "        Non_SATD_comment_sum_sample = Non_SATD_comment_sum_sample.append(comments.iloc[i])\n"
   ]
  },
  {
   "cell_type": "code",
   "execution_count": 11,
   "id": "3bb8a5fb",
   "metadata": {},
   "outputs": [],
   "source": [
    "df = Non_SATD_comment_sum_sample.drop_duplicates()"
   ]
  },
  {
   "cell_type": "code",
   "execution_count": 12,
   "id": "85a1bc14",
   "metadata": {},
   "outputs": [
    {
     "data": {
      "text/plain": [
       "Autotool    67574\n",
       "CMake       41447\n",
       "Maven        3465\n",
       "Ant           935\n",
       "Ivy            43\n",
       "Name: buildSysteminFile, dtype: int64"
      ]
     },
     "execution_count": 12,
     "metadata": {},
     "output_type": "execute_result"
    }
   ],
   "source": [
    "df['buildSysteminFile'].value_counts()"
   ]
  },
  {
   "cell_type": "code",
   "execution_count": 13,
   "id": "4739ad5c",
   "metadata": {},
   "outputs": [
    {
     "data": {
      "text/plain": [
       "4588"
      ]
     },
     "execution_count": 13,
     "metadata": {},
     "output_type": "execute_result"
    }
   ],
   "source": [
    "len(df['repoIndex'].unique())"
   ]
  },
  {
   "cell_type": "code",
   "execution_count": 14,
   "id": "4264f9ce",
   "metadata": {},
   "outputs": [],
   "source": [
    "import re\n",
    "def clean_url(text):\n",
    "    text = ''.join([word if word not in string.punctuation else ' ' for word in text.group(0)])\n",
    "    return text\n",
    "\n",
    "def clean_string(text):\n",
    "    text = re.sub(r'https?:\\/\\/(www\\.)?[-a-zA-Z0-9@:%._\\+~#=]{2,256}\\.[a-z]{2,6}\\b([-a-zA-Z0-9@:%_\\+.~#?&//=]*)',clean_url, text)\n",
    "    text = re.sub(r'\\s+',' ', text)\n",
    "    if len(re.findall(r'\\bdnl\\b', text)) > 0:\n",
    "        lines = []\n",
    "        for line in text.split('\\n'):\n",
    "            if len(line.split()) > 0:\n",
    "                if 'dnl' == line.split()[0]:\n",
    "                    line = line.replace('dnl', '', 1)\n",
    "            lines.append(line)\n",
    "        text ='\\n'.join(lines)\n",
    "    text = re.sub(r'[^A-Za-z0-9.\\']+',' ',text)\n",
    "    text = text.lower()\n",
    "    text = text.strip()\n",
    "    return text"
   ]
  },
  {
   "cell_type": "code",
   "execution_count": 15,
   "id": "320a6fbb",
   "metadata": {},
   "outputs": [],
   "source": [
    "cleaned_comments = []\n",
    "Non_SATD_comment_sample_remove_single_word = pd.DataFrame(columns = df.columns, dtype=object )\n",
    "for index, row in df.iterrows():\n",
    "    cleaned_comment = clean_string(row['comment'])\n",
    "    word_limit = 2\n",
    "    if len(cleaned_comment.split()) >= word_limit:\n",
    "        cleaned_comments.append(cleaned_comment)\n",
    "        Non_SATD_comment_sample_remove_single_word = Non_SATD_comment_sample_remove_single_word.append(row, ignore_index=True)\n",
    "Non_SATD_comment_sample_remove_single_word['cleaned_comments'] = cleaned_comments\n",
    "\n"
   ]
  },
  {
   "cell_type": "code",
   "execution_count": 16,
   "id": "746f702d",
   "metadata": {},
   "outputs": [
    {
     "data": {
      "text/plain": [
       "Autotool    53742\n",
       "CMake       39617\n",
       "Maven        3124\n",
       "Ant           862\n",
       "Ivy            41\n",
       "Name: buildSysteminFile, dtype: int64"
      ]
     },
     "execution_count": 16,
     "metadata": {},
     "output_type": "execute_result"
    }
   ],
   "source": [
    "Non_SATD_comment_sample_remove_single_word['buildSysteminFile'].value_counts()"
   ]
  },
  {
   "cell_type": "code",
   "execution_count": 17,
   "id": "48bff38e",
   "metadata": {},
   "outputs": [
    {
     "data": {
      "text/plain": [
       "4549"
      ]
     },
     "execution_count": 17,
     "metadata": {},
     "output_type": "execute_result"
    }
   ],
   "source": [
    "len(Non_SATD_comment_sample_remove_single_word['repoName'].unique())"
   ]
  },
  {
   "cell_type": "code",
   "execution_count": 18,
   "id": "ce1c3619",
   "metadata": {},
   "outputs": [],
   "source": [
    "comments_embeddings = model.encode(list(Non_SATD_comment_sample_remove_single_word['cleaned_comments']))"
   ]
  },
  {
   "cell_type": "code",
   "execution_count": 19,
   "id": "ed03f3eb",
   "metadata": {},
   "outputs": [],
   "source": [
    "csim = cosine_similarity(comments_embeddings)"
   ]
  },
  {
   "cell_type": "code",
   "execution_count": 20,
   "id": "bb4b70a5",
   "metadata": {},
   "outputs": [
    {
     "data": {
      "text/plain": [
       "4055"
      ]
     },
     "execution_count": 20,
     "metadata": {},
     "output_type": "execute_result"
    }
   ],
   "source": [
    "less_than_0_8_indexes = np.where(np.count_nonzero(csim >= 0.8, axis=1) <= 1)\n",
    "comments_embeddings = np.delete(comments_embeddings,less_than_0_8_indexes[0],axis = 0 )\n",
    "Non_SATD_comment_sample_remove_single_word_and_less_0_8 = Non_SATD_comment_sample_remove_single_word.drop(less_than_0_8_indexes[0])\n",
    "Non_SATD_comment_sample_remove_single_word_and_less_0_8.reset_index(drop=True, inplace=True)\n",
    "len(Non_SATD_comment_sample_remove_single_word_and_less_0_8['repoName'].unique())"
   ]
  },
  {
   "cell_type": "code",
   "execution_count": 21,
   "id": "8d47c6fc",
   "metadata": {},
   "outputs": [
    {
     "data": {
      "text/plain": [
       "Autotool    51509\n",
       "CMake       29402\n",
       "Maven        1985\n",
       "Ant           560\n",
       "Ivy             5\n",
       "Name: buildSysteminFile, dtype: int64"
      ]
     },
     "execution_count": 21,
     "metadata": {},
     "output_type": "execute_result"
    }
   ],
   "source": [
    "Non_SATD_comment_sample_remove_single_word_and_less_0_8['buildSysteminFile'].value_counts()"
   ]
  },
  {
   "cell_type": "code",
   "execution_count": 22,
   "id": "b96db090",
   "metadata": {},
   "outputs": [],
   "source": [
    "from sklearn.cluster import DBSCAN\n",
    "clustering = DBSCAN(eps=0.1, min_samples=2, n_jobs = -1, metric='cosine').fit_predict(comments_embeddings)"
   ]
  },
  {
   "cell_type": "code",
   "execution_count": 23,
   "id": "484befef",
   "metadata": {},
   "outputs": [],
   "source": [
    "Non_SATD_comment_sample_remove_single_word_and_less_0_8['groupId'] = clustering"
   ]
  },
  {
   "cell_type": "code",
   "execution_count": 24,
   "id": "afba69ba",
   "metadata": {},
   "outputs": [
    {
     "data": {
      "text/plain": [
       "0.8937854"
      ]
     },
     "execution_count": 24,
     "metadata": {},
     "output_type": "execute_result"
    }
   ],
   "source": [
    "from sklearn.metrics import silhouette_score\n",
    "silhouette_score(comments_embeddings, clustering, metric='cosine')"
   ]
  },
  {
   "cell_type": "code",
   "execution_count": 25,
   "id": "514a4ee3",
   "metadata": {},
   "outputs": [],
   "source": [
    "Non_SATD_comment_sample_remove_single_word_and_less_0_8_and_noise = Non_SATD_comment_sample_remove_single_word_and_less_0_8.loc[Non_SATD_comment_sample_remove_single_word_and_less_0_8['groupId'] != -1]"
   ]
  },
  {
   "cell_type": "code",
   "execution_count": 26,
   "id": "5154e907",
   "metadata": {},
   "outputs": [
    {
     "data": {
      "text/plain": [
       "3780"
      ]
     },
     "execution_count": 26,
     "metadata": {},
     "output_type": "execute_result"
    }
   ],
   "source": [
    "len(Non_SATD_comment_sample_remove_single_word_and_less_0_8_and_noise['repoName'].unique())"
   ]
  },
  {
   "cell_type": "code",
   "execution_count": 27,
   "id": "5fbffdbb",
   "metadata": {},
   "outputs": [
    {
     "data": {
      "text/plain": [
       "Autotool    51062\n",
       "CMake       27712\n",
       "Maven        1791\n",
       "Ant           544\n",
       "Name: buildSysteminFile, dtype: int64"
      ]
     },
     "execution_count": 27,
     "metadata": {},
     "output_type": "execute_result"
    }
   ],
   "source": [
    "Non_SATD_comment_sample_remove_single_word_and_less_0_8_and_noise['buildSysteminFile'].value_counts()"
   ]
  },
  {
   "cell_type": "code",
   "execution_count": 28,
   "id": "c34c1155",
   "metadata": {},
   "outputs": [
    {
     "name": "stderr",
     "output_type": "stream",
     "text": [
      "/tmp/ipykernel_1504192/1314246108.py:5: SettingWithCopyWarning: \n",
      "A value is trying to be set on a copy of a slice from a DataFrame.\n",
      "Try using .loc[row_indexer,col_indexer] = value instead\n",
      "\n",
      "See the caveats in the documentation: http://pandas.pydata.org/pandas-docs/stable/user_guide/indexing.html#returning-a-view-versus-a-copy\n",
      "  group['repoDiversity'] = [repo_diversity] * group.shape[0]\n",
      "/tmp/ipykernel_1504192/1314246108.py:10: SettingWithCopyWarning: \n",
      "A value is trying to be set on a copy of a slice from a DataFrame.\n",
      "Try using .loc[row_indexer,col_indexer] = value instead\n",
      "\n",
      "See the caveats in the documentation: http://pandas.pydata.org/pandas-docs/stable/user_guide/indexing.html#returning-a-view-versus-a-copy\n",
      "  group['isCrossLanguage'] = [False] * group.shape[0]\n",
      "/tmp/ipykernel_1504192/1314246108.py:12: SettingWithCopyWarning: \n",
      "A value is trying to be set on a copy of a slice from a DataFrame.\n",
      "Try using .loc[row_indexer,col_indexer] = value instead\n",
      "\n",
      "See the caveats in the documentation: http://pandas.pydata.org/pandas-docs/stable/user_guide/indexing.html#returning-a-view-versus-a-copy\n",
      "  group['systemDiversity'] = [system_diversity] * group.shape[0]\n",
      "/tmp/ipykernel_1504192/1314246108.py:8: SettingWithCopyWarning: \n",
      "A value is trying to be set on a copy of a slice from a DataFrame.\n",
      "Try using .loc[row_indexer,col_indexer] = value instead\n",
      "\n",
      "See the caveats in the documentation: http://pandas.pydata.org/pandas-docs/stable/user_guide/indexing.html#returning-a-view-versus-a-copy\n",
      "  group['isCrossLanguage'] = [True] * group.shape[0]\n"
     ]
    }
   ],
   "source": [
    "Non_SATD_comments = pd.DataFrame()\n",
    "\n",
    "for name, group in Non_SATD_comment_sample_remove_single_word_and_less_0_8_and_noise.groupby('groupId'):\n",
    "    repo_diversity = len(set(list(group['repoName'])))\n",
    "    group['repoDiversity'] = [repo_diversity] * group.shape[0]\n",
    "    build_system_set = set(list(group['buildSysteminFile']))\n",
    "    if set(['CMake','Autotool']).intersection(build_system_set) and set(['Maven','Ant']).intersection(build_system_set):\n",
    "        group['isCrossLanguage'] = [True] * group.shape[0]\n",
    "    else:\n",
    "        group['isCrossLanguage'] = [False] * group.shape[0]\n",
    "    system_diversity = len(build_system_set)\n",
    "    group['systemDiversity'] = [system_diversity] * group.shape[0]\n",
    "    Non_SATD_comments = pd.concat([Non_SATD_comments,group])\n",
    "\n",
    "        "
   ]
  },
  {
   "cell_type": "code",
   "execution_count": 29,
   "id": "584fac00",
   "metadata": {},
   "outputs": [],
   "source": [
    "Non_SATD_groups = pd.DataFrame({'count' : Non_SATD_comments.groupby(['groupId','repoDiversity','isCrossLanguage','systemDiversity']).size()}).reset_index()"
   ]
  },
  {
   "cell_type": "code",
   "execution_count": 30,
   "id": "2e48320f",
   "metadata": {},
   "outputs": [
    {
     "data": {
      "text/plain": [
       "count    1211.000000\n",
       "mean        3.678778\n",
       "std         5.133430\n",
       "min         2.000000\n",
       "25%         2.000000\n",
       "50%         2.000000\n",
       "75%         3.000000\n",
       "max        84.000000\n",
       "Name: count, dtype: float64"
      ]
     },
     "execution_count": 30,
     "metadata": {},
     "output_type": "execute_result"
    }
   ],
   "source": [
    "Non_SATD_groups.loc[Non_SATD_groups['repoDiversity'] == 1]['count'].describe()"
   ]
  },
  {
   "cell_type": "code",
   "execution_count": 31,
   "id": "6c59bcb4",
   "metadata": {},
   "outputs": [
    {
     "data": {
      "text/plain": [
       "4455"
      ]
     },
     "execution_count": 31,
     "metadata": {},
     "output_type": "execute_result"
    }
   ],
   "source": [
    "sum(Non_SATD_groups.loc[Non_SATD_groups['repoDiversity'] == 1]['count'])"
   ]
  },
  {
   "cell_type": "code",
   "execution_count": 32,
   "id": "1945abb8",
   "metadata": {},
   "outputs": [
    {
     "data": {
      "text/plain": [
       "count    6157.000000\n",
       "mean       12.449894\n",
       "std        69.421757\n",
       "min         2.000000\n",
       "25%         2.000000\n",
       "50%         3.000000\n",
       "75%         6.000000\n",
       "max      2427.000000\n",
       "Name: count, dtype: float64"
      ]
     },
     "execution_count": 32,
     "metadata": {},
     "output_type": "execute_result"
    }
   ],
   "source": [
    "Non_SATD_groups.loc[Non_SATD_groups['repoDiversity'] != 1]['count'].describe()"
   ]
  },
  {
   "cell_type": "code",
   "execution_count": 33,
   "id": "e79635bd",
   "metadata": {},
   "outputs": [
    {
     "data": {
      "text/plain": [
       "76654"
      ]
     },
     "execution_count": 33,
     "metadata": {},
     "output_type": "execute_result"
    }
   ],
   "source": [
    "sum(Non_SATD_groups.loc[Non_SATD_groups['repoDiversity'] != 1]['count'])"
   ]
  },
  {
   "cell_type": "code",
   "execution_count": 34,
   "id": "20d35293",
   "metadata": {},
   "outputs": [
    {
     "data": {
      "text/plain": [
       "count    7332.000000\n",
       "mean       10.743181\n",
       "std        62.989773\n",
       "min         2.000000\n",
       "25%         2.000000\n",
       "50%         3.000000\n",
       "75%         5.000000\n",
       "max      2427.000000\n",
       "Name: count, dtype: float64"
      ]
     },
     "execution_count": 34,
     "metadata": {},
     "output_type": "execute_result"
    }
   ],
   "source": [
    "Non_SATD_groups.loc[Non_SATD_groups['isCrossLanguage'] == False]['count'].describe()"
   ]
  },
  {
   "cell_type": "code",
   "execution_count": 35,
   "id": "2e1120d2",
   "metadata": {},
   "outputs": [
    {
     "data": {
      "text/plain": [
       "78769"
      ]
     },
     "execution_count": 35,
     "metadata": {},
     "output_type": "execute_result"
    }
   ],
   "source": [
    "sum(Non_SATD_groups.loc[Non_SATD_groups['isCrossLanguage'] == False]['count'])"
   ]
  },
  {
   "cell_type": "code",
   "execution_count": 36,
   "id": "2dcd1a8a",
   "metadata": {},
   "outputs": [
    {
     "data": {
      "text/plain": [
       "count     36.000000\n",
       "mean      65.000000\n",
       "std      129.293907\n",
       "min        2.000000\n",
       "25%        3.000000\n",
       "50%        7.500000\n",
       "75%       44.250000\n",
       "max      598.000000\n",
       "Name: count, dtype: float64"
      ]
     },
     "execution_count": 36,
     "metadata": {},
     "output_type": "execute_result"
    }
   ],
   "source": [
    "Non_SATD_groups.loc[Non_SATD_groups['isCrossLanguage'] == True]['count'].describe()"
   ]
  },
  {
   "cell_type": "code",
   "execution_count": 37,
   "id": "c8d3ee5e",
   "metadata": {},
   "outputs": [
    {
     "data": {
      "text/plain": [
       "2340"
      ]
     },
     "execution_count": 37,
     "metadata": {},
     "output_type": "execute_result"
    }
   ],
   "source": [
    "sum(Non_SATD_groups.loc[Non_SATD_groups['isCrossLanguage'] == True]['count'])"
   ]
  },
  {
   "cell_type": "code",
   "execution_count": 38,
   "id": "5af2e705",
   "metadata": {},
   "outputs": [
    {
     "data": {
      "text/plain": [
       "count    7249.000000\n",
       "mean       10.665747\n",
       "std        63.185616\n",
       "min         2.000000\n",
       "25%         2.000000\n",
       "50%         3.000000\n",
       "75%         5.000000\n",
       "max      2427.000000\n",
       "Name: count, dtype: float64"
      ]
     },
     "execution_count": 38,
     "metadata": {},
     "output_type": "execute_result"
    }
   ],
   "source": [
    "Non_SATD_groups.loc[Non_SATD_groups['systemDiversity'] == 1]['count'].describe()"
   ]
  },
  {
   "cell_type": "code",
   "execution_count": 39,
   "id": "7dde217c",
   "metadata": {},
   "outputs": [
    {
     "data": {
      "text/plain": [
       "77316"
      ]
     },
     "execution_count": 39,
     "metadata": {},
     "output_type": "execute_result"
    }
   ],
   "source": [
    "sum(Non_SATD_groups.loc[Non_SATD_groups['systemDiversity'] == 1]['count'])"
   ]
  },
  {
   "cell_type": "code",
   "execution_count": 40,
   "id": "0cdf57b8",
   "metadata": {},
   "outputs": [
    {
     "data": {
      "text/plain": [
       "count    119.000000\n",
       "mean      31.873950\n",
       "std       81.724481\n",
       "min        2.000000\n",
       "25%        3.000000\n",
       "50%        6.000000\n",
       "75%       16.500000\n",
       "max      598.000000\n",
       "Name: count, dtype: float64"
      ]
     },
     "execution_count": 40,
     "metadata": {},
     "output_type": "execute_result"
    }
   ],
   "source": [
    "Non_SATD_groups.loc[Non_SATD_groups['systemDiversity'] != 1]['count'].describe()"
   ]
  },
  {
   "cell_type": "code",
   "execution_count": 41,
   "id": "ba1cb635",
   "metadata": {},
   "outputs": [
    {
     "data": {
      "text/plain": [
       "3793"
      ]
     },
     "execution_count": 41,
     "metadata": {},
     "output_type": "execute_result"
    }
   ],
   "source": [
    "sum(Non_SATD_groups.loc[Non_SATD_groups['systemDiversity'] != 1]['count'])"
   ]
  },
  {
   "cell_type": "code",
   "execution_count": 42,
   "id": "1e84093f",
   "metadata": {},
   "outputs": [
    {
     "data": {
      "text/plain": [
       "Autotool    49955\n",
       "CMake       25811\n",
       "Maven        1178\n",
       "Ant           372\n",
       "Name: buildSysteminFile, dtype: int64"
      ]
     },
     "execution_count": 42,
     "metadata": {},
     "output_type": "execute_result"
    }
   ],
   "source": [
    "Non_SATD_comments[Non_SATD_comments['systemDiversity'] == 1]['buildSysteminFile'].value_counts()"
   ]
  },
  {
   "cell_type": "code",
   "execution_count": 43,
   "id": "7eeead0f",
   "metadata": {},
   "outputs": [
    {
     "data": {
      "text/plain": [
       "buildSysteminFile\n",
       "Ant           73\n",
       "Autotool    1962\n",
       "CMake       4889\n",
       "Maven        325\n",
       "Name: groupId, dtype: int64"
      ]
     },
     "execution_count": 43,
     "metadata": {},
     "output_type": "execute_result"
    }
   ],
   "source": [
    "Non_SATD_comments[Non_SATD_comments['systemDiversity'] == 1].groupby(['buildSysteminFile'])['groupId'].agg(lambda x: len(set(x)))"
   ]
  },
  {
   "cell_type": "code",
   "execution_count": 44,
   "id": "c9298df4",
   "metadata": {},
   "outputs": [
    {
     "data": {
      "text/plain": [
       "count    73.000000\n",
       "mean      5.095890\n",
       "std       5.074896\n",
       "min       2.000000\n",
       "25%       2.000000\n",
       "50%       2.000000\n",
       "75%       7.000000\n",
       "max      29.000000\n",
       "Name: values, dtype: float64"
      ]
     },
     "execution_count": 44,
     "metadata": {},
     "output_type": "execute_result"
    }
   ],
   "source": [
    "from collections import Counter\n",
    "\n",
    "same_system_clone = Non_SATD_comments[Non_SATD_comments['systemDiversity'] == 1].groupby(['buildSysteminFile'])['groupId'].agg(lambda x: {key:value for key, value in dict(Counter(x)).items()}).to_frame()\n",
    "\n",
    "same_system_clone_Ant = pd.DataFrame(same_system_clone.iloc[0]['groupId'].values(),\n",
    "                                              columns =['values'])\n",
    "same_system_clone_Ant['values'].describe()"
   ]
  },
  {
   "cell_type": "code",
   "execution_count": 45,
   "id": "e925e893",
   "metadata": {},
   "outputs": [
    {
     "data": {
      "text/plain": [
       "count    1962.000000\n",
       "mean       25.461264\n",
       "std       119.036454\n",
       "min         2.000000\n",
       "25%         2.000000\n",
       "50%         4.000000\n",
       "75%         9.000000\n",
       "max      2427.000000\n",
       "Name: values, dtype: float64"
      ]
     },
     "execution_count": 45,
     "metadata": {},
     "output_type": "execute_result"
    }
   ],
   "source": [
    "same_system_clone_Autotool = pd.DataFrame(same_system_clone.iloc[1]['groupId'].values(),\n",
    "                                              columns =['values'])\n",
    "same_system_clone_Autotool['values'].describe()"
   ]
  },
  {
   "cell_type": "code",
   "execution_count": 46,
   "id": "45e957dd",
   "metadata": {},
   "outputs": [
    {
     "data": {
      "text/plain": [
       "count    4889.000000\n",
       "mean        5.279403\n",
       "std        10.653891\n",
       "min         2.000000\n",
       "25%         2.000000\n",
       "50%         3.000000\n",
       "75%         5.000000\n",
       "max       333.000000\n",
       "Name: values, dtype: float64"
      ]
     },
     "execution_count": 46,
     "metadata": {},
     "output_type": "execute_result"
    }
   ],
   "source": [
    "same_system_clone_CMake = pd.DataFrame(same_system_clone.iloc[2]['groupId'].values(),\n",
    "                                              columns =['values'])\n",
    "same_system_clone_CMake['values'].describe()"
   ]
  },
  {
   "cell_type": "code",
   "execution_count": 47,
   "id": "5b1e6424",
   "metadata": {},
   "outputs": [
    {
     "data": {
      "text/plain": [
       "count    325.000000\n",
       "mean       3.624615\n",
       "std        3.492586\n",
       "min        2.000000\n",
       "25%        2.000000\n",
       "50%        2.000000\n",
       "75%        4.000000\n",
       "max       28.000000\n",
       "Name: values, dtype: float64"
      ]
     },
     "execution_count": 47,
     "metadata": {},
     "output_type": "execute_result"
    }
   ],
   "source": [
    "same_system_clone_Maven = pd.DataFrame(same_system_clone.iloc[3]['groupId'].values(),\n",
    "                                              columns =['values'])\n",
    "same_system_clone_Maven['values'].describe()"
   ]
  },
  {
   "cell_type": "code",
   "execution_count": 48,
   "id": "6f611da9",
   "metadata": {},
   "outputs": [],
   "source": [
    "Non_SATD_comments.to_csv('../data/Non_SATD_clones.csv',index=None)"
   ]
  },
  {
   "cell_type": "code",
   "execution_count": null,
   "id": "df7daae7",
   "metadata": {},
   "outputs": [],
   "source": []
  }
 ],
 "metadata": {
  "kernelspec": {
   "display_name": "Python 3 (ipykernel)",
   "language": "python",
   "name": "python3"
  },
  "language_info": {
   "codemirror_mode": {
    "name": "ipython",
    "version": 3
   },
   "file_extension": ".py",
   "mimetype": "text/x-python",
   "name": "python",
   "nbconvert_exporter": "python",
   "pygments_lexer": "ipython3",
   "version": "3.8.13"
  }
 },
 "nbformat": 4,
 "nbformat_minor": 5
}
