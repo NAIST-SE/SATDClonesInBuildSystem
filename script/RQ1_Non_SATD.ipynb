{
 "cells": [
  {
   "cell_type": "code",
   "execution_count": null,
   "id": "e5f45d49",
   "metadata": {},
   "outputs": [],
   "source": [
    "from tqdm import tqdm\n",
    "import pandas as pd\n",
    "import string\n",
    "import numpy as np\n",
    "from sklearn.metrics.pairwise import cosine_similarity\n",
    "from sklearn.feature_extraction.text import CountVectorizer\n",
    "from nltk.corpus import stopwords\n",
    "stopwords = stopwords.words('english')\n",
    "from sentence_transformers import SentenceTransformer\n",
    "import pickle\n",
    "import re\n",
    "import itertools\n",
    "import datetime\n",
    "import plotly.graph_objects as go\n",
    "from plotly.subplots import make_subplots\n",
    "model = SentenceTransformer('paraphrase-MiniLM-L6-v2')"
   ]
  },
  {
   "cell_type": "code",
   "execution_count": null,
   "id": "eac28380",
   "metadata": {},
   "outputs": [],
   "source": [
    "\n",
    "data_filter_repolist_with_full_info = pd.read_csv(\"../data/data_filter_repolist_with_full_info_no_header.csv\",header=None)\n",
    "\n",
    "SATD_comment_sum = pd.DataFrame()\n",
    "\n",
    "for index, row in tqdm(data_filter_repolist_with_full_info.iterrows(), total=data_filter_repolist_with_full_info.shape[0]):\n",
    "    comment = pd.read_csv('../data/SATD_comment/' + str(row[0]) + '.csv')\n",
    "    SATD_comment_sum = pd.concat([SATD_comment_sum, comment], ignore_index=True)\n"
   ]
  },
  {
   "cell_type": "code",
   "execution_count": null,
   "id": "49d650e9",
   "metadata": {},
   "outputs": [],
   "source": [
    "SATD_comment_sum['filePath'] = SATD_comment_sum['linkLocation'].apply(lambda x: ''.join(x.split('#L')[:-1]))"
   ]
  },
  {
   "cell_type": "code",
   "execution_count": null,
   "id": "a26c19e3",
   "metadata": {},
   "outputs": [],
   "source": [
    "Non_SATD_comment_sum = pd.DataFrame()\n",
    "\n",
    "for index in tqdm(SATD_comment_sum['repoIndex'].unique()):\n",
    "    comment = pd.read_csv('../data/Comments_with_no_keywords/' + str(index) + '.csv')\n",
    "    Non_SATD_comment_sum = pd.concat([Non_SATD_comment_sum, comment], ignore_index=True)\n"
   ]
  },
  {
   "cell_type": "code",
   "execution_count": null,
   "id": "610a28f4",
   "metadata": {},
   "outputs": [],
   "source": [
    "Non_SATD_comment_sum['filePath'] = Non_SATD_comment_sum['linkLocation'].apply(lambda x: ''.join(x.split('#L')[:-1]))"
   ]
  },
  {
   "cell_type": "code",
   "execution_count": null,
   "id": "fe0b645c",
   "metadata": {},
   "outputs": [],
   "source": [
    "len(Non_SATD_comment_sum['repoIndex'].unique())"
   ]
  },
  {
   "cell_type": "code",
   "execution_count": null,
   "id": "2c520d08",
   "metadata": {},
   "outputs": [],
   "source": [
    "Non_SATD_comment_sum['buildSysteminFile'].value_counts()"
   ]
  },
  {
   "cell_type": "code",
   "execution_count": null,
   "id": "802a4a61",
   "metadata": {},
   "outputs": [],
   "source": [
    "Non_SATD_comment_sum_same_file = Non_SATD_comment_sum.loc[Non_SATD_comment_sum['filePath'].isin(list(SATD_comment_sum['filePath'].unique()))]"
   ]
  },
  {
   "cell_type": "code",
   "execution_count": null,
   "id": "9fd1eeb2",
   "metadata": {},
   "outputs": [],
   "source": [
    "Non_SATD_comment_sum_sample = pd.DataFrame(columns=Non_SATD_comment_sum_same_file.columns, dtype=object)\n",
    "\n",
    "unexptected_case = {}\n",
    "for index, row in SATD_comment_sum.iterrows():\n",
    "    comments = Non_SATD_comment_sum_same_file.loc[(Non_SATD_comment_sum_same_file['filePath'] == row['filePath']) & (~Non_SATD_comment_sum_same_file.index.isin(list(Non_SATD_comment_sum_sample.index)))]\n",
    "    if comments.shape[0] == 0:\n",
    "        if row['filePath'] in unexptected_case.keys():\n",
    "            unexptected_case[row['filePath']] += 1\n",
    "        else: unexptected_case[row['filePath']] = 0\n",
    "        continue\n",
    "    line_diff_upper = [line for line in list(comments['startLine']) if row['startLine'] > line]\n",
    "    indexes = []\n",
    "    if len(line_diff_upper) != 0:\n",
    "        indexes.append(line_diff_upper.index(max(line_diff_upper)))\n",
    "    line_diff_below = [line for line in list(comments['endLine']) if row['endLine'] < line]\n",
    "    if len(line_diff_below) != 0:\n",
    "        indexes.append(line_diff_below.index(min(line_diff_below)))\n",
    "    for i in indexes:\n",
    "        Non_SATD_comment_sum_sample = Non_SATD_comment_sum_sample.append(comments.iloc[i])\n"
   ]
  },
  {
   "cell_type": "code",
   "execution_count": null,
   "id": "c24bd639",
   "metadata": {},
   "outputs": [],
   "source": [
    "df = Non_SATD_comment_sum_sample.drop_duplicates()"
   ]
  },
  {
   "cell_type": "code",
   "execution_count": null,
   "id": "8d6ff3b5",
   "metadata": {},
   "outputs": [],
   "source": [
    "df['buildSysteminFile'].value_counts()"
   ]
  },
  {
   "cell_type": "code",
   "execution_count": null,
   "id": "05383c29",
   "metadata": {},
   "outputs": [],
   "source": [
    "len(df['repoIndex'].unique())"
   ]
  },
  {
   "cell_type": "code",
   "execution_count": null,
   "id": "c182480e",
   "metadata": {},
   "outputs": [],
   "source": [
    "import re\n",
    "def clean_url(text):\n",
    "    text = ''.join([word if word not in string.punctuation else ' ' for word in text.group(0)])\n",
    "    return text\n",
    "\n",
    "def clean_string(text):\n",
    "    text = re.sub(r'https?:\\/\\/(www\\.)?[-a-zA-Z0-9@:%._\\+~#=]{2,256}\\.[a-z]{2,6}\\b([-a-zA-Z0-9@:%_\\+.~#?&//=]*)',clean_url, text)\n",
    "    text = re.sub(r'\\s+',' ', text)\n",
    "    if len(re.findall(r'\\bdnl\\b', text)) > 0:\n",
    "        lines = []\n",
    "        for line in text.split('\\n'):\n",
    "            if len(line.split()) > 0:\n",
    "                if 'dnl' == line.split()[0]:\n",
    "                    line = line.replace('dnl', '', 1)\n",
    "            lines.append(line)\n",
    "        text ='\\n'.join(lines)\n",
    "    text = re.sub(r'[^A-Za-z0-9.\\']+',' ',text)\n",
    "    text = text.lower()\n",
    "    text = text.strip()\n",
    "    return text"
   ]
  },
  {
   "cell_type": "code",
   "execution_count": null,
   "id": "a00c2294",
   "metadata": {},
   "outputs": [],
   "source": [
    "cleaned_comments = []\n",
    "Non_SATD_comment_sample_remove_single_word = pd.DataFrame(columns = df.columns, dtype=object )\n",
    "for index, row in df.iterrows():\n",
    "    cleaned_comment = clean_string(row['comment'])\n",
    "    word_limit = 2\n",
    "    if len(cleaned_comment.split()) >= word_limit:\n",
    "        cleaned_comments.append(cleaned_comment)\n",
    "        Non_SATD_comment_sample_remove_single_word = Non_SATD_comment_sample_remove_single_word.append(row, ignore_index=True)\n",
    "Non_SATD_comment_sample_remove_single_word['cleaned_comments'] = cleaned_comments\n",
    "\n"
   ]
  },
  {
   "cell_type": "code",
   "execution_count": null,
   "id": "275c1190",
   "metadata": {},
   "outputs": [],
   "source": [
    "Non_SATD_comment_sample_remove_single_word['buildSysteminFile'].value_counts()"
   ]
  },
  {
   "cell_type": "code",
   "execution_count": null,
   "id": "1f45a698",
   "metadata": {},
   "outputs": [],
   "source": [
    "len(Non_SATD_comment_sample_remove_single_word['repoName'].unique())"
   ]
  },
  {
   "cell_type": "code",
   "execution_count": null,
   "id": "84d333b3",
   "metadata": {},
   "outputs": [],
   "source": [
    "comments_embeddings = model.encode(list(Non_SATD_comment_sample_remove_single_word['cleaned_comments']))"
   ]
  },
  {
   "cell_type": "code",
   "execution_count": null,
   "id": "a30dd75a",
   "metadata": {},
   "outputs": [],
   "source": [
    "csim = cosine_similarity(comments_embeddings)"
   ]
  },
  {
   "cell_type": "code",
   "execution_count": null,
   "id": "406ccf6f",
   "metadata": {},
   "outputs": [],
   "source": [
    "less_than_0_8_indexes = np.where(np.count_nonzero(csim >= 0.8, axis=1) <= 1)\n",
    "comments_embeddings = np.delete(comments_embeddings,less_than_0_8_indexes[0],axis = 0 )\n",
    "Non_SATD_comment_sample_remove_single_word_and_less_0_8 = Non_SATD_comment_sample_remove_single_word.drop(less_than_0_8_indexes[0])\n",
    "Non_SATD_comment_sample_remove_single_word_and_less_0_8.reset_index(drop=True, inplace=True)\n",
    "len(Non_SATD_comment_sample_remove_single_word_and_less_0_8['repoName'].unique())"
   ]
  },
  {
   "cell_type": "code",
   "execution_count": null,
   "id": "538fee5b",
   "metadata": {},
   "outputs": [],
   "source": [
    "Non_SATD_comment_sample_remove_single_word_and_less_0_8['buildSysteminFile'].value_counts()"
   ]
  },
  {
   "cell_type": "code",
   "execution_count": null,
   "id": "5f8c4e1e",
   "metadata": {},
   "outputs": [],
   "source": [
    "from sklearn.cluster import DBSCAN\n",
    "clustering = DBSCAN(eps=0.1, min_samples=2, n_jobs = -1, metric='cosine').fit_predict(comments_embeddings)"
   ]
  },
  {
   "cell_type": "code",
   "execution_count": null,
   "id": "d8308475",
   "metadata": {},
   "outputs": [],
   "source": [
    "Non_SATD_comment_sample_remove_single_word_and_less_0_8['groupId'] = clustering"
   ]
  },
  {
   "cell_type": "code",
   "execution_count": null,
   "id": "e99b067d",
   "metadata": {},
   "outputs": [],
   "source": [
    "from sklearn.metrics import silhouette_score\n",
    "silhouette_score(comments_embeddings, clustering, metric='cosine')"
   ]
  },
  {
   "cell_type": "code",
   "execution_count": null,
   "id": "1a2d44ae",
   "metadata": {},
   "outputs": [],
   "source": [
    "Non_SATD_comment_sample_remove_single_word_and_less_0_8_and_noise = Non_SATD_comment_sample_remove_single_word_and_less_0_8.loc[Non_SATD_comment_sample_remove_single_word_and_less_0_8['groupId'] != -1]"
   ]
  },
  {
   "cell_type": "code",
   "execution_count": null,
   "id": "85b395dc",
   "metadata": {},
   "outputs": [],
   "source": [
    "len(Non_SATD_comment_sample_remove_single_word_and_less_0_8_and_noise['repoName'].unique())"
   ]
  },
  {
   "cell_type": "code",
   "execution_count": null,
   "id": "7f5acb9d",
   "metadata": {},
   "outputs": [],
   "source": [
    "Non_SATD_comment_sample_remove_single_word_and_less_0_8_and_noise['buildSysteminFile'].value_counts()"
   ]
  },
  {
   "cell_type": "code",
   "execution_count": null,
   "id": "3ad02564",
   "metadata": {},
   "outputs": [],
   "source": [
    "Non_SATD_comments = pd.DataFrame()\n",
    "\n",
    "for name, group in Non_SATD_comment_sample_remove_single_word_and_less_0_8_and_noise.groupby('groupId'):\n",
    "    repo_diversity = len(set(list(group['repoName'])))\n",
    "    group['repoDiversity'] = [repo_diversity] * group.shape[0]\n",
    "    build_system_set = set(list(group['buildSysteminFile']))\n",
    "    if set(['CMake','Autotool']).intersection(build_system_set) and set(['Maven','Ant']).intersection(build_system_set):\n",
    "        group['isCrossLanguage'] = [True] * group.shape[0]\n",
    "    else:\n",
    "        group['isCrossLanguage'] = [False] * group.shape[0]\n",
    "    system_diversity = len(build_system_set)\n",
    "    group['systemDiversity'] = [system_diversity] * group.shape[0]\n",
    "    Non_SATD_comments = pd.concat([Non_SATD_comments,group])\n",
    "\n",
    "        "
   ]
  },
  {
   "cell_type": "code",
   "execution_count": null,
   "id": "ee73cc15",
   "metadata": {},
   "outputs": [],
   "source": [
    "Non_SATD_groups = pd.DataFrame({'count' : Non_SATD_comments.groupby(['groupId','repoDiversity','isCrossLanguage','systemDiversity']).size()}).reset_index()"
   ]
  },
  {
   "cell_type": "code",
   "execution_count": null,
   "id": "d2ae9f82",
   "metadata": {},
   "outputs": [],
   "source": [
    "Non_SATD_groups.loc[Non_SATD_groups['repoDiversity'] == 1]['count'].describe()"
   ]
  },
  {
   "cell_type": "code",
   "execution_count": null,
   "id": "1d4a58bc",
   "metadata": {},
   "outputs": [],
   "source": [
    "sum(Non_SATD_groups.loc[Non_SATD_groups['repoDiversity'] == 1]['count'])"
   ]
  },
  {
   "cell_type": "code",
   "execution_count": null,
   "id": "bd4ca39b",
   "metadata": {},
   "outputs": [],
   "source": [
    "Non_SATD_groups.loc[Non_SATD_groups['repoDiversity'] != 1]['count'].describe()"
   ]
  },
  {
   "cell_type": "code",
   "execution_count": null,
   "id": "4745c0d3",
   "metadata": {},
   "outputs": [],
   "source": [
    "sum(Non_SATD_groups.loc[Non_SATD_groups['repoDiversity'] != 1]['count'])"
   ]
  },
  {
   "cell_type": "code",
   "execution_count": null,
   "id": "6f847d67",
   "metadata": {},
   "outputs": [],
   "source": [
    "Non_SATD_groups.loc[Non_SATD_groups['isCrossLanguage'] == False]['count'].describe()"
   ]
  },
  {
   "cell_type": "code",
   "execution_count": null,
   "id": "5539c8e7",
   "metadata": {},
   "outputs": [],
   "source": [
    "sum(Non_SATD_groups.loc[Non_SATD_groups['isCrossLanguage'] == False]['count'])"
   ]
  },
  {
   "cell_type": "code",
   "execution_count": null,
   "id": "5908a11a",
   "metadata": {},
   "outputs": [],
   "source": [
    "Non_SATD_groups.loc[Non_SATD_groups['isCrossLanguage'] == True]['count'].describe()"
   ]
  },
  {
   "cell_type": "code",
   "execution_count": null,
   "id": "b5719f72",
   "metadata": {},
   "outputs": [],
   "source": [
    "sum(Non_SATD_groups.loc[Non_SATD_groups['isCrossLanguage'] == True]['count'])"
   ]
  },
  {
   "cell_type": "code",
   "execution_count": null,
   "id": "6ba067d6",
   "metadata": {},
   "outputs": [],
   "source": [
    "Non_SATD_groups.loc[Non_SATD_groups['systemDiversity'] == 1]['count'].describe()"
   ]
  },
  {
   "cell_type": "code",
   "execution_count": null,
   "id": "e6af9460",
   "metadata": {},
   "outputs": [],
   "source": [
    "sum(Non_SATD_groups.loc[Non_SATD_groups['systemDiversity'] == 1]['count'])"
   ]
  },
  {
   "cell_type": "code",
   "execution_count": null,
   "id": "eeecad7f",
   "metadata": {},
   "outputs": [],
   "source": [
    "Non_SATD_groups.loc[Non_SATD_groups['systemDiversity'] != 1]['count'].describe()"
   ]
  },
  {
   "cell_type": "code",
   "execution_count": null,
   "id": "c2a3826f",
   "metadata": {},
   "outputs": [],
   "source": [
    "sum(Non_SATD_groups.loc[Non_SATD_groups['systemDiversity'] != 1]['count'])"
   ]
  },
  {
   "cell_type": "code",
   "execution_count": null,
   "id": "a298e0a4",
   "metadata": {},
   "outputs": [],
   "source": [
    "Non_SATD_comments[Non_SATD_comments['systemDiversity'] == 1]['buildSysteminFile'].value_counts()"
   ]
  },
  {
   "cell_type": "code",
   "execution_count": null,
   "id": "e51c9dec",
   "metadata": {},
   "outputs": [],
   "source": [
    "Non_SATD_comments[Non_SATD_comments['systemDiversity'] == 1].groupby(['buildSysteminFile'])['groupId'].agg(lambda x: len(set(x)))"
   ]
  },
  {
   "cell_type": "code",
   "execution_count": null,
   "id": "bf07c262",
   "metadata": {},
   "outputs": [],
   "source": [
    "from collections import Counter\n",
    "\n",
    "same_system_clone = Non_SATD_comments[Non_SATD_comments['systemDiversity'] == 1].groupby(['buildSysteminFile'])['groupId'].agg(lambda x: {key:value for key, value in dict(Counter(x)).items()}).to_frame()\n",
    "\n",
    "same_system_clone_Ant = pd.DataFrame(same_system_clone.iloc[0]['groupId'].values(),\n",
    "                                              columns =['values'])\n",
    "same_system_clone_Ant['values'].describe()"
   ]
  },
  {
   "cell_type": "code",
   "execution_count": null,
   "id": "7b03f78a",
   "metadata": {},
   "outputs": [],
   "source": [
    "same_system_clone_Autotool = pd.DataFrame(same_system_clone.iloc[1]['groupId'].values(),\n",
    "                                              columns =['values'])\n",
    "same_system_clone_Autotool['values'].describe()"
   ]
  },
  {
   "cell_type": "code",
   "execution_count": null,
   "id": "ce6bb143",
   "metadata": {},
   "outputs": [],
   "source": [
    "same_system_clone_CMake = pd.DataFrame(same_system_clone.iloc[2]['groupId'].values(),\n",
    "                                              columns =['values'])\n",
    "same_system_clone_CMake['values'].describe()"
   ]
  },
  {
   "cell_type": "code",
   "execution_count": null,
   "id": "3647338d",
   "metadata": {},
   "outputs": [],
   "source": [
    "same_system_clone_Maven = pd.DataFrame(same_system_clone.iloc[3]['groupId'].values(),\n",
    "                                              columns =['values'])\n",
    "same_system_clone_Maven['values'].describe()"
   ]
  },
  {
   "cell_type": "code",
   "execution_count": null,
   "id": "b043013e",
   "metadata": {},
   "outputs": [],
   "source": [
    "Non_SATD_comments.to_csv('../data/Non_SATD_clones.csv',index=None)"
   ]
  },
  {
   "cell_type": "code",
   "execution_count": null,
   "id": "3e5b1887",
   "metadata": {},
   "outputs": [],
   "source": []
  }
 ],
 "metadata": {
  "kernelspec": {
   "display_name": "Python 3 (ipykernel)",
   "language": "python",
   "name": "python3"
  },
  "language_info": {
   "codemirror_mode": {
    "name": "ipython",
    "version": 3
   },
   "file_extension": ".py",
   "mimetype": "text/x-python",
   "name": "python",
   "nbconvert_exporter": "python",
   "pygments_lexer": "ipython3",
   "version": "3.8.13"
  }
 },
 "nbformat": 4,
 "nbformat_minor": 5
}
