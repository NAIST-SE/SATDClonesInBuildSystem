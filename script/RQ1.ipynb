{
 "cells": [
  {
   "cell_type": "code",
   "execution_count": null,
   "id": "b7cb8f6e",
   "metadata": {},
   "outputs": [],
   "source": [
    "from tqdm import tqdm\n",
    "import pandas as pd\n",
    "import string\n",
    "import numpy as np\n",
    "from sklearn.metrics.pairwise import cosine_similarity\n",
    "from sklearn.feature_extraction.text import CountVectorizer\n",
    "from nltk.corpus import stopwords\n",
    "stopwords = stopwords.words('english')\n",
    "from sentence_transformers import SentenceTransformer\n",
    "import pickle\n",
    "import re\n",
    "import itertools\n",
    "import datetime\n",
    "import plotly.graph_objects as go\n",
    "from plotly.subplots import make_subplots\n",
    "model = SentenceTransformer('paraphrase-MiniLM-L6-v2')"
   ]
  },
  {
   "cell_type": "code",
   "execution_count": null,
   "id": "4e7d7147",
   "metadata": {},
   "outputs": [],
   "source": [
    "\n",
    "data_filter_repolist_with_full_info = pd.read_csv(\"../data/data_filter_repolist_with_full_info_no_header.csv\",header=None)\n",
    "\n",
    "SATD_comments_sum = pd.DataFrame()\n",
    "\n",
    "for index, row in tqdm(data_filter_repolist_with_full_info.iterrows(), total=data_filter_repolist_with_full_info.shape[0]):\n",
    "    comment = pd.read_csv('../data/SATD_comment/' + str(row[0]) + '.csv')\n",
    "    SATD_comments_sum = pd.concat([SATD_comments_sum, comment], ignore_index=True)\n"
   ]
  },
  {
   "cell_type": "code",
   "execution_count": null,
   "id": "bbdd0bd0",
   "metadata": {},
   "outputs": [],
   "source": [
    "len(SATD_comments_sum['repoIndex'].unique())"
   ]
  },
  {
   "cell_type": "code",
   "execution_count": null,
   "id": "9209e8ac",
   "metadata": {},
   "outputs": [],
   "source": [
    "SATD_comments_sum['buildSysteminFile'].value_counts()"
   ]
  },
  {
   "cell_type": "code",
   "execution_count": null,
   "id": "db70666e",
   "metadata": {},
   "outputs": [],
   "source": [
    "def clean_url(text):\n",
    "    text = ''.join([word if word not in string.punctuation else ' ' for word in text.group(0)])\n",
    "    return text\n",
    "\n",
    "def clean_string(text):\n",
    "    text = re.sub(r'https?:\\/\\/(www\\.)?[-a-zA-Z0-9@:%._\\+~#=]{2,256}\\.[a-z]{2,6}\\b([-a-zA-Z0-9@:%_\\+.~#?&//=]*)',clean_url, text)\n",
    "    text = re.sub(r'\\s+',' ', text)\n",
    "    if len(re.findall(r'\\bdnl\\b', text)) > 0:\n",
    "        lines = []\n",
    "        for line in text.split('\\n'):\n",
    "            if len(line.split()) > 0:\n",
    "                if 'dnl' == line.split()[0]:\n",
    "                    line = line.replace('dnl', '', 1)\n",
    "            lines.append(line)\n",
    "        text ='\\n'.join(lines)\n",
    "    text = re.sub(r'[^A-Za-z0-9.\\']+',' ',text)\n",
    "    text = text.lower()\n",
    "    text = text.strip()\n",
    "    return text"
   ]
  },
  {
   "cell_type": "code",
   "execution_count": null,
   "id": "14a1c85d",
   "metadata": {},
   "outputs": [],
   "source": [
    "\n",
    "\n",
    "cleaned_comments = []\n",
    "SATD_comment_sum_remove_single_word = pd.DataFrame(columns = SATD_comments_sum.columns, dtype=object )\n",
    "for index, row in SATD_comments_sum.iterrows():\n",
    "    cleaned_comment = clean_string(row['comment'])\n",
    "    word_limit = 2\n",
    "    if len(cleaned_comment.split()) >= word_limit:\n",
    "        cleaned_comments.append(cleaned_comment)\n",
    "        SATD_comment_sum_remove_single_word = SATD_comment_sum_remove_single_word.append(row, ignore_index=True)\n",
    "SATD_comment_sum_remove_single_word['cleaned_comments'] = cleaned_comments\n",
    "\n"
   ]
  },
  {
   "cell_type": "code",
   "execution_count": null,
   "id": "72638f03",
   "metadata": {},
   "outputs": [],
   "source": [
    "SATD_comment_sum_remove_single_word.shape"
   ]
  },
  {
   "cell_type": "code",
   "execution_count": null,
   "id": "99626303",
   "metadata": {},
   "outputs": [],
   "source": [
    "SATD_comment_sum_remove_single_word['buildSysteminFile'].value_counts()"
   ]
  },
  {
   "cell_type": "code",
   "execution_count": null,
   "id": "9b4417d2",
   "metadata": {},
   "outputs": [],
   "source": [
    "len(SATD_comment_sum_remove_single_word['repoName'].unique())"
   ]
  },
  {
   "cell_type": "code",
   "execution_count": null,
   "id": "d7e135a8",
   "metadata": {},
   "outputs": [],
   "source": [
    "comments_embeddings = model.encode(list(SATD_comment_sum_remove_single_word['cleaned_comments']))\n",
    "csim = cosine_similarity(comments_embeddings)\n",
    "less_than_0_8_indexes = np.where(np.count_nonzero(csim >= 0.8, axis=1) <= 1)\n",
    "comments_embeddings = np.delete(comments_embeddings,less_than_0_8_indexes[0],axis = 0 )"
   ]
  },
  {
   "cell_type": "code",
   "execution_count": null,
   "id": "c6f0f6b5",
   "metadata": {},
   "outputs": [],
   "source": [
    "SATD_comment_sum_remove_single_word_and_less_0_8 = SATD_comment_sum_remove_single_word.drop(less_than_0_8_indexes[0])\n",
    "SATD_comment_sum_remove_single_word_and_less_0_8.reset_index(drop=True, inplace=True)\n",
    "SATD_comment_sum_remove_single_word_and_less_0_8.shape"
   ]
  },
  {
   "cell_type": "code",
   "execution_count": null,
   "id": "909befd1",
   "metadata": {},
   "outputs": [],
   "source": [
    "len(SATD_comment_sum_remove_single_word_and_less_0_8['repoName'].unique())"
   ]
  },
  {
   "cell_type": "code",
   "execution_count": null,
   "id": "2bbaced2",
   "metadata": {},
   "outputs": [],
   "source": [
    "SATD_comment_sum_remove_single_word_and_less_0_8['buildSysteminFile'].value_counts()"
   ]
  },
  {
   "cell_type": "code",
   "execution_count": null,
   "id": "6b9c9f0d",
   "metadata": {},
   "outputs": [],
   "source": [
    "from sklearn.cluster import DBSCAN\n",
    "clustering = DBSCAN(eps=0.1, min_samples=2, n_jobs = -1, metric='cosine').fit_predict(comments_embeddings)"
   ]
  },
  {
   "cell_type": "code",
   "execution_count": null,
   "id": "9a4fe038",
   "metadata": {},
   "outputs": [],
   "source": [
    "SATD_comment_sum_remove_single_word_and_less_0_8['groupId'] = clustering\n",
    "from sklearn.metrics import silhouette_score\n",
    "silhouette_score(comments_embeddings, clustering, metric='cosine')"
   ]
  },
  {
   "cell_type": "code",
   "execution_count": null,
   "id": "7e822ab4",
   "metadata": {},
   "outputs": [],
   "source": [
    "SATD_comment_sum_remove_single_word_and_less_0_8_and_noise = SATD_comment_sum_remove_single_word_and_less_0_8.loc[SATD_comment_sum_remove_single_word_and_less_0_8['groupId'] != -1]\n",
    "SATD_comment_sum_remove_single_word_and_less_0_8_and_noise.shape"
   ]
  },
  {
   "cell_type": "code",
   "execution_count": null,
   "id": "6f501f2f",
   "metadata": {},
   "outputs": [],
   "source": [
    "len(SATD_comment_sum_remove_single_word_and_less_0_8_and_noise['repoName'].unique())"
   ]
  },
  {
   "cell_type": "code",
   "execution_count": null,
   "id": "7216fb33",
   "metadata": {},
   "outputs": [],
   "source": [
    "SATD_comment_sum_remove_single_word_and_less_0_8_and_noise['buildSysteminFile'].value_counts()"
   ]
  },
  {
   "cell_type": "code",
   "execution_count": null,
   "id": "16f38e5f",
   "metadata": {},
   "outputs": [],
   "source": [
    "len(SATD_comment_sum_remove_single_word_and_less_0_8_and_noise['groupId'].unique())"
   ]
  },
  {
   "cell_type": "code",
   "execution_count": null,
   "id": "c4327beb",
   "metadata": {},
   "outputs": [],
   "source": [
    "import plotly.graph_objects as go\n",
    "\n",
    "x = SATD_comment_sum_remove_single_word_and_less_0_8_and_noise.groupby('groupId').size().sort_values(ascending=False).tolist()\n",
    "\n",
    "y = list(range(len(x)))\n",
    "\n",
    "fig = go.Figure([go.Scatter(\n",
    "    x=y,\n",
    "    y=x,\n",
    "    marker_color = 'black', showlegend=False,\n",
    "),     go.Scatter(x=[286,286], y=[0,5400 ], mode=\"lines\", showlegend=False, marker_color='black')]\n",
    "               )\n",
    "\n",
    "fig.update_layout(\n",
    "    xaxis_title=\"Top clone groups\",\n",
    "    yaxis_title=\"Threshold (# of SATD)\",\n",
    "    paper_bgcolor='rgba(255,255,255,255)',\n",
    "    font=dict(\n",
    "        size=18,\n",
    "    ),\n",
    "    plot_bgcolor='rgba(255,255,255,255)',width=1000, height=800\n",
    ")\n",
    "fig.update_yaxes(type=\"log\", tickmode = 'array', tickvals = [10,100,1000,10000,100000,1000000], tickformat=',.2r')\n",
    "fig.update_xaxes(tickformat=',2r', tickmode = 'array', tickvals = [286,1000,2000,3000,4000,5000])\n",
    "fig.show()\n",
    "fig.write_image('thresholds_clone_groups.pdf', scale=2)"
   ]
  },
  {
   "cell_type": "code",
   "execution_count": null,
   "id": "3edf479a",
   "metadata": {},
   "outputs": [],
   "source": [
    "top_286_SATD_clone_group = pd.DataFrame()\n",
    "for i in SATD_comment_sum_remove_single_word_and_less_0_8_and_noise.groupby('groupId').size().sort_values(ascending=False).index.to_list()[:286]:\n",
    "    top_286_SATD_clone_group = pd.concat([top_286_SATD_clone_group, SATD_comment_sum_remove_single_word_and_less_0_8_and_noise.loc[SATD_comment_sum_remove_single_word_and_less_0_8_and_noise['groupId'] == i].iloc[0].to_frame().T])"
   ]
  },
  {
   "cell_type": "code",
   "execution_count": null,
   "id": "3376b44f",
   "metadata": {},
   "outputs": [],
   "source": [
    "top_286_SATD_clone_group['numberofSATDinGroup'] = SATD_comment_sum_remove_single_word_and_less_0_8_and_noise.groupby('groupId').size().sort_values(ascending=False).tolist()[:286]"
   ]
  },
  {
   "cell_type": "code",
   "execution_count": null,
   "id": "09812774",
   "metadata": {},
   "outputs": [],
   "source": [
    "top_286_SATD_clone_group.to_csv('../data/top_286_SATD_clone_group.csv')"
   ]
  },
  {
   "cell_type": "code",
   "execution_count": null,
   "id": "f8bc25e0",
   "metadata": {},
   "outputs": [],
   "source": [
    "SATD_comments_manully_check = pd.read_csv('../data/top_286_SATD_clone_group_fix.csv')\n",
    "SATD_comments_manully_check.loc[SATD_comments_manully_check['IsSATD'] == 'No']['numberofSATDinGroup'].sum()"
   ]
  },
  {
   "cell_type": "code",
   "execution_count": null,
   "id": "d7c4bc32",
   "metadata": {},
   "outputs": [],
   "source": [
    "false_positives = list(SATD_comments_manully_check.loc[SATD_comments_manully_check['IsSATD'] == 'No']['groupId'])"
   ]
  },
  {
   "cell_type": "code",
   "execution_count": null,
   "id": "aced6a66",
   "metadata": {},
   "outputs": [],
   "source": [
    "SATD_comments_exclude_FP = SATD_comment_sum_remove_single_word_and_less_0_8_and_noise.loc[~SATD_comment_sum_remove_single_word_and_less_0_8_and_noise['groupId'].isin(false_positives)]\n",
    "SATD_comments_exclude_FP.shape"
   ]
  },
  {
   "cell_type": "code",
   "execution_count": null,
   "id": "0d4fc032",
   "metadata": {},
   "outputs": [],
   "source": [
    "SATD_comments_exclude_FP['buildSysteminFile'].value_counts()"
   ]
  },
  {
   "cell_type": "code",
   "execution_count": null,
   "id": "b44ef363",
   "metadata": {},
   "outputs": [],
   "source": [
    "len(SATD_comments_exclude_FP['repoName'].unique())"
   ]
  },
  {
   "cell_type": "code",
   "execution_count": null,
   "id": "ac2e31eb",
   "metadata": {},
   "outputs": [],
   "source": [
    "SATD_comments = pd.DataFrame()\n",
    "\n",
    "for name, group in SATD_comments_exclude_FP.groupby('groupId'):\n",
    "    repo_diversity = len(set(list(group['repoName'])))\n",
    "    group['repoDiversity'] = [repo_diversity] * group.shape[0]\n",
    "    build_system_set = set(list(group['buildSysteminFile']))\n",
    "    if set(['CMake','Autotool']).intersection(build_system_set) and set(['Maven','Ant']).intersection(build_system_set):\n",
    "        group['isCrossLanguage'] = [True] * group.shape[0]\n",
    "    else:\n",
    "        group['isCrossLanguage'] = [False] * group.shape[0]\n",
    "    system_diversity = len(build_system_set)\n",
    "    group['systemDiversity'] = [system_diversity] * group.shape[0]\n",
    "    SATD_comments = pd.concat([SATD_comments,group])\n",
    "        "
   ]
  },
  {
   "cell_type": "code",
   "execution_count": null,
   "id": "2b55a97a",
   "metadata": {},
   "outputs": [],
   "source": [
    "SATD_groups = pd.DataFrame({'count' : SATD_comments.groupby(['groupId','repoDiversity','isCrossLanguage','systemDiversity']).size()}).reset_index()"
   ]
  },
  {
   "cell_type": "code",
   "execution_count": null,
   "id": "6c007f34",
   "metadata": {},
   "outputs": [],
   "source": [
    "SATD_groups_repository_dimension = SATD_groups.loc[SATD_groups['repoDiversity'] == 1]"
   ]
  },
  {
   "cell_type": "code",
   "execution_count": null,
   "id": "a7e0a805",
   "metadata": {},
   "outputs": [],
   "source": [
    "SATD_groups.loc[SATD_groups['repoDiversity'] == 1]['count'].describe()"
   ]
  },
  {
   "cell_type": "code",
   "execution_count": null,
   "id": "41773efd",
   "metadata": {},
   "outputs": [],
   "source": [
    "sum(SATD_groups.loc[SATD_groups['repoDiversity'] == 1]['count'])"
   ]
  },
  {
   "cell_type": "code",
   "execution_count": null,
   "id": "012b512f",
   "metadata": {},
   "outputs": [],
   "source": [
    "SATD_groups.loc[SATD_groups['repoDiversity'] != 1]['count'].describe()"
   ]
  },
  {
   "cell_type": "code",
   "execution_count": null,
   "id": "f45f5a02",
   "metadata": {},
   "outputs": [],
   "source": [
    "sum(SATD_groups.loc[SATD_groups['repoDiversity'] != 1]['count'])"
   ]
  },
  {
   "cell_type": "code",
   "execution_count": null,
   "id": "58c88740",
   "metadata": {},
   "outputs": [],
   "source": [
    "SATD_groups.loc[SATD_groups['isCrossLanguage'] == False]['count'].describe()"
   ]
  },
  {
   "cell_type": "code",
   "execution_count": null,
   "id": "17b64867",
   "metadata": {},
   "outputs": [],
   "source": [
    "sum(SATD_groups.loc[SATD_groups['isCrossLanguage'] == False]['count'])"
   ]
  },
  {
   "cell_type": "code",
   "execution_count": null,
   "id": "6c4e554b",
   "metadata": {},
   "outputs": [],
   "source": [
    "SATD_groups.loc[SATD_groups['isCrossLanguage'] == True]['count'].describe()"
   ]
  },
  {
   "cell_type": "code",
   "execution_count": null,
   "id": "31f1d497",
   "metadata": {},
   "outputs": [],
   "source": [
    "sum(SATD_groups.loc[SATD_groups['isCrossLanguage'] == True]['count'])"
   ]
  },
  {
   "cell_type": "code",
   "execution_count": null,
   "id": "f58293d6",
   "metadata": {},
   "outputs": [],
   "source": [
    "SATD_groups.loc[SATD_groups['systemDiversity'] == 1]['count'].describe()"
   ]
  },
  {
   "cell_type": "code",
   "execution_count": null,
   "id": "bb0e3e55",
   "metadata": {},
   "outputs": [],
   "source": [
    "sum(SATD_groups.loc[SATD_groups['systemDiversity'] == 1]['count'])"
   ]
  },
  {
   "cell_type": "code",
   "execution_count": null,
   "id": "afb0f5f7",
   "metadata": {},
   "outputs": [],
   "source": [
    "SATD_groups.loc[SATD_groups['systemDiversity'] != 1]['count'].describe()"
   ]
  },
  {
   "cell_type": "code",
   "execution_count": null,
   "id": "d0ddab8f",
   "metadata": {},
   "outputs": [],
   "source": [
    "sum(SATD_groups.loc[SATD_groups['systemDiversity'] != 1]['count'])"
   ]
  },
  {
   "cell_type": "code",
   "execution_count": null,
   "id": "3f1c9a83",
   "metadata": {},
   "outputs": [],
   "source": [
    "SATD_comments[SATD_comments['systemDiversity'] == 1]['buildSysteminFile'].value_counts()"
   ]
  },
  {
   "cell_type": "code",
   "execution_count": null,
   "id": "cf049e59",
   "metadata": {},
   "outputs": [],
   "source": [
    "SATD_comments[SATD_comments['systemDiversity'] == 1].groupby(['buildSysteminFile'])['groupId'].agg(lambda x: len(set(x)))"
   ]
  },
  {
   "cell_type": "code",
   "execution_count": null,
   "id": "57914bfc",
   "metadata": {},
   "outputs": [],
   "source": [
    "from collections import Counter\n",
    "\n",
    "same_system_clone = SATD_comments[SATD_comments['systemDiversity'] == 1].groupby(['buildSysteminFile'])['groupId'].agg(lambda x: {key:value for key, value in dict(Counter(x)).items()}).to_frame()\n",
    "\n",
    "same_system_clone_Ant = pd.DataFrame(same_system_clone.iloc[0]['groupId'].values(),\n",
    "                                              columns =['values'])\n",
    "same_system_clone_Ant['values'].describe()"
   ]
  },
  {
   "cell_type": "code",
   "execution_count": null,
   "id": "f883aa85",
   "metadata": {},
   "outputs": [],
   "source": [
    "same_system_clone_Autotool = pd.DataFrame(same_system_clone.iloc[1]['groupId'].values(),\n",
    "                                              columns =['values'])\n",
    "same_system_clone_Autotool['values'].describe()"
   ]
  },
  {
   "cell_type": "code",
   "execution_count": null,
   "id": "fc0867b9",
   "metadata": {},
   "outputs": [],
   "source": [
    "same_system_clone_CMake = pd.DataFrame(same_system_clone.iloc[2]['groupId'].values(),\n",
    "                                              columns =['values'])\n",
    "same_system_clone_CMake['values'].describe()"
   ]
  },
  {
   "cell_type": "code",
   "execution_count": null,
   "id": "7888bdc7",
   "metadata": {},
   "outputs": [],
   "source": [
    "same_system_clone_Maven = pd.DataFrame(same_system_clone.iloc[3]['groupId'].values(),\n",
    "                                              columns =['values'])\n",
    "same_system_clone_Maven['values'].describe()"
   ]
  },
  {
   "cell_type": "code",
   "execution_count": null,
   "id": "77dc7014",
   "metadata": {},
   "outputs": [],
   "source": [
    "SATD_comments.to_csv('../data/SATD_clones.csv',index=None)"
   ]
  },
  {
   "cell_type": "code",
   "execution_count": null,
   "id": "510a4092",
   "metadata": {},
   "outputs": [],
   "source": [
    "SATD_comments_clone_same_system = SATD_comments.loc[SATD_comments['systemDiversity'] == 1].reset_index()"
   ]
  },
  {
   "cell_type": "code",
   "execution_count": null,
   "id": "30e2cfa9",
   "metadata": {},
   "outputs": [],
   "source": [
    "SATD_clones = pd.DataFrame()\n",
    "for i in SATD_comments_clone_same_system.groupby('groupId').size().sort_values(ascending=False).index.to_list():\n",
    "    SATD_clones = pd.concat([SATD_clones, SATD_comments_clone_same_system.loc[SATD_comments_clone_same_system['groupId'] == i].iloc[0].to_frame().T])"
   ]
  },
  {
   "cell_type": "code",
   "execution_count": null,
   "id": "e3ef05a9",
   "metadata": {},
   "outputs": [],
   "source": [
    "SATD_clones['numberofSATDinGroup'] = SATD_comments_clone_same_system.groupby('groupId').size().sort_values(ascending=False).tolist()"
   ]
  },
  {
   "cell_type": "code",
   "execution_count": null,
   "id": "eec9cd21",
   "metadata": {},
   "outputs": [],
   "source": [
    "SATD_clones.to_csv('../data/SATD_clones_coding.csv',index=None)"
   ]
  },
  {
   "cell_type": "code",
   "execution_count": null,
   "id": "6e0ecd78",
   "metadata": {},
   "outputs": [],
   "source": []
  }
 ],
 "metadata": {
  "kernelspec": {
   "display_name": "Python 3 (ipykernel)",
   "language": "python",
   "name": "python3"
  },
  "language_info": {
   "codemirror_mode": {
    "name": "ipython",
    "version": 3
   },
   "file_extension": ".py",
   "mimetype": "text/x-python",
   "name": "python",
   "nbconvert_exporter": "python",
   "pygments_lexer": "ipython3",
   "version": "3.8.13"
  }
 },
 "nbformat": 4,
 "nbformat_minor": 5
}
